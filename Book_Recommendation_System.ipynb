{
  "nbformat": 4,
  "nbformat_minor": 0,
  "metadata": {
    "colab": {
      "name": "Book_Recommendation_System.ipynb",
      "provenance": [],
      "collapsed_sections": [],
      "authorship_tag": "ABX9TyOjqEzzGwKKdL2+x8KYZB/4",
      "include_colab_link": true
    },
    "kernelspec": {
      "name": "python3",
      "display_name": "Python 3"
    },
    "language_info": {
      "name": "python"
    }
  },
  "cells": [
    {
      "cell_type": "markdown",
      "metadata": {
        "id": "view-in-github",
        "colab_type": "text"
      },
      "source": [
        "<a href=\"https://colab.research.google.com/github/aditi10998/Book_recommendation_system/blob/main/Book_Recommendation_System.ipynb\" target=\"_parent\"><img src=\"https://colab.research.google.com/assets/colab-badge.svg\" alt=\"Open In Colab\"/></a>"
      ]
    },
    {
      "cell_type": "markdown",
      "source": [
        "# **Problem Statement**\n",
        "During the last few decades, with the rise of Youtube, Amazon, Netflix, and many other such\n",
        "web services, recommender systems have taken more and more place in our lives. From\n",
        "e-commerce (suggest to buyers articles that could interest them) to online advertisement\n",
        "(suggest to users the right contents, matching their preferences), recommender systems are\n",
        "today unavoidable in our daily online journeys.\n",
        "In a very general way, recommender systems are algorithms aimed at suggesting relevant\n",
        "items to users (items being movies to watch, text to read, products to buy, or anything else\n",
        "depending on industries).\n",
        "Recommender systems are really critical in some industries as they can generate a huge\n",
        "amount of income when they are efficient or also be a way to stand out significantly from\n",
        "competitors. The main objective is to create a book recommendation system for users.\n",
        "\n",
        "Content\n",
        "The Book-Crossing dataset comprises 3 files.\n",
        "\n",
        "● Users:\n",
        "\n",
        "Contains the users. Note that user IDs (User-ID) have been anonymized and map to\n",
        "integers. Demographic data is provided (Location, Age) if available. Otherwise, these\n",
        "fields contain NULL values.\n",
        "\n",
        "● Books:\n",
        "\n",
        "Books are identified by their respective ISBN. Invalid ISBNs have already been removed\n",
        "from the dataset. Moreover, some content-based information is given (Book-Title,\n",
        "Book-Author, Year-Of-Publication, Publisher), obtained from Amazon Web\n",
        "Services. Note that in the case of several authors, only the first is provided. URLs linking\n",
        "to cover images are also given, appearing in three different flavors (Image-URL-S,\n",
        "Image-URL-M, Image-URL-L), i.e., small, medium, large. These URLs point to the\n",
        "Amazon website.\n",
        "\n",
        "● Ratings:\n",
        "\n",
        "Contains the book rating information. Ratings (Book-Rating) are either explicit,\n",
        "expressed on a scale from 1-10 (higher values denoting higher appreciation), or implicit,\n",
        "expressed by 0."
      ],
      "metadata": {
        "id": "Z6V2T783KnXk"
      }
    },
    {
      "cell_type": "markdown",
      "source": [
        "### **Important Libraries**"
      ],
      "metadata": {
        "id": "TP6VnisvLVS6"
      }
    },
    {
      "cell_type": "code",
      "execution_count": 148,
      "metadata": {
        "id": "m-Dkc4LJKYzD"
      },
      "outputs": [],
      "source": [
        "import numpy as np\n",
        "import pandas as pd\n",
        "from numpy import math\n",
        "import seaborn as sns"
      ]
    },
    {
      "cell_type": "code",
      "source": [
        "from google.colab import drive\n",
        "drive.mount('/content/drive')"
      ],
      "metadata": {
        "colab": {
          "base_uri": "https://localhost:8080/"
        },
        "id": "A84rwaZVOQzY",
        "outputId": "b589614f-e387-4a73-98fc-7602c9ceedc1"
      },
      "execution_count": 149,
      "outputs": [
        {
          "output_type": "stream",
          "name": "stdout",
          "text": [
            "Drive already mounted at /content/drive; to attempt to forcibly remount, call drive.mount(\"/content/drive\", force_remount=True).\n"
          ]
        }
      ]
    },
    {
      "cell_type": "code",
      "source": [
        "#Loading files from google drive to colab and storing in a variable.\n",
        "File1=\"/content/drive/MyDrive/Book_Recommendation_System/Copy of Books.csv\"\n",
        "File2=\"/content/drive/MyDrive/Book_Recommendation_System/Copy of Ratings.csv\"\n",
        "File3=\"/content/drive/MyDrive/Book_Recommendation_System/Copy of Users.csv\""
      ],
      "metadata": {
        "id": "y8g0OW1vLeXe"
      },
      "execution_count": 150,
      "outputs": []
    },
    {
      "cell_type": "code",
      "source": [
        "#Creating Dataframes from csv files\n",
        "Books_df=pd.read_csv(File1,low_memory=False)\n",
        "Ratings_df=pd.read_csv(File2,low_memory=False)\n",
        "Users_df=pd.read_csv(File3,low_memory=False)"
      ],
      "metadata": {
        "id": "rk-WqKlkMHcZ"
      },
      "execution_count": 151,
      "outputs": []
    },
    {
      "cell_type": "markdown",
      "source": [
        "### **Peeking the data**"
      ],
      "metadata": {
        "id": "fVeqE1gkOijM"
      }
    },
    {
      "cell_type": "code",
      "source": [
        "Books_df.head()"
      ],
      "metadata": {
        "colab": {
          "base_uri": "https://localhost:8080/",
          "height": 478
        },
        "id": "8E3MWf6OOdZH",
        "outputId": "a7deb94f-2998-4688-815f-cd4a55bcecf1"
      },
      "execution_count": 152,
      "outputs": [
        {
          "output_type": "execute_result",
          "data": {
            "text/plain": [
              "         ISBN                                         Book-Title  \\\n",
              "0  0195153448                                Classical Mythology   \n",
              "1  0002005018                                       Clara Callan   \n",
              "2  0060973129                               Decision in Normandy   \n",
              "3  0374157065  Flu: The Story of the Great Influenza Pandemic...   \n",
              "4  0393045218                             The Mummies of Urumchi   \n",
              "\n",
              "            Book-Author Year-Of-Publication                   Publisher  \\\n",
              "0    Mark P. O. Morford                2002     Oxford University Press   \n",
              "1  Richard Bruce Wright                2001       HarperFlamingo Canada   \n",
              "2          Carlo D'Este                1991             HarperPerennial   \n",
              "3      Gina Bari Kolata                1999        Farrar Straus Giroux   \n",
              "4       E. J. W. Barber                1999  W. W. Norton &amp; Company   \n",
              "\n",
              "                                         Image-URL-S  \\\n",
              "0  http://images.amazon.com/images/P/0195153448.0...   \n",
              "1  http://images.amazon.com/images/P/0002005018.0...   \n",
              "2  http://images.amazon.com/images/P/0060973129.0...   \n",
              "3  http://images.amazon.com/images/P/0374157065.0...   \n",
              "4  http://images.amazon.com/images/P/0393045218.0...   \n",
              "\n",
              "                                         Image-URL-M  \\\n",
              "0  http://images.amazon.com/images/P/0195153448.0...   \n",
              "1  http://images.amazon.com/images/P/0002005018.0...   \n",
              "2  http://images.amazon.com/images/P/0060973129.0...   \n",
              "3  http://images.amazon.com/images/P/0374157065.0...   \n",
              "4  http://images.amazon.com/images/P/0393045218.0...   \n",
              "\n",
              "                                         Image-URL-L  \n",
              "0  http://images.amazon.com/images/P/0195153448.0...  \n",
              "1  http://images.amazon.com/images/P/0002005018.0...  \n",
              "2  http://images.amazon.com/images/P/0060973129.0...  \n",
              "3  http://images.amazon.com/images/P/0374157065.0...  \n",
              "4  http://images.amazon.com/images/P/0393045218.0...  "
            ],
            "text/html": [
              "\n",
              "  <div id=\"df-a720ca2f-461f-4c3a-9f6b-7cc9d1a7760f\">\n",
              "    <div class=\"colab-df-container\">\n",
              "      <div>\n",
              "<style scoped>\n",
              "    .dataframe tbody tr th:only-of-type {\n",
              "        vertical-align: middle;\n",
              "    }\n",
              "\n",
              "    .dataframe tbody tr th {\n",
              "        vertical-align: top;\n",
              "    }\n",
              "\n",
              "    .dataframe thead th {\n",
              "        text-align: right;\n",
              "    }\n",
              "</style>\n",
              "<table border=\"1\" class=\"dataframe\">\n",
              "  <thead>\n",
              "    <tr style=\"text-align: right;\">\n",
              "      <th></th>\n",
              "      <th>ISBN</th>\n",
              "      <th>Book-Title</th>\n",
              "      <th>Book-Author</th>\n",
              "      <th>Year-Of-Publication</th>\n",
              "      <th>Publisher</th>\n",
              "      <th>Image-URL-S</th>\n",
              "      <th>Image-URL-M</th>\n",
              "      <th>Image-URL-L</th>\n",
              "    </tr>\n",
              "  </thead>\n",
              "  <tbody>\n",
              "    <tr>\n",
              "      <th>0</th>\n",
              "      <td>0195153448</td>\n",
              "      <td>Classical Mythology</td>\n",
              "      <td>Mark P. O. Morford</td>\n",
              "      <td>2002</td>\n",
              "      <td>Oxford University Press</td>\n",
              "      <td>http://images.amazon.com/images/P/0195153448.0...</td>\n",
              "      <td>http://images.amazon.com/images/P/0195153448.0...</td>\n",
              "      <td>http://images.amazon.com/images/P/0195153448.0...</td>\n",
              "    </tr>\n",
              "    <tr>\n",
              "      <th>1</th>\n",
              "      <td>0002005018</td>\n",
              "      <td>Clara Callan</td>\n",
              "      <td>Richard Bruce Wright</td>\n",
              "      <td>2001</td>\n",
              "      <td>HarperFlamingo Canada</td>\n",
              "      <td>http://images.amazon.com/images/P/0002005018.0...</td>\n",
              "      <td>http://images.amazon.com/images/P/0002005018.0...</td>\n",
              "      <td>http://images.amazon.com/images/P/0002005018.0...</td>\n",
              "    </tr>\n",
              "    <tr>\n",
              "      <th>2</th>\n",
              "      <td>0060973129</td>\n",
              "      <td>Decision in Normandy</td>\n",
              "      <td>Carlo D'Este</td>\n",
              "      <td>1991</td>\n",
              "      <td>HarperPerennial</td>\n",
              "      <td>http://images.amazon.com/images/P/0060973129.0...</td>\n",
              "      <td>http://images.amazon.com/images/P/0060973129.0...</td>\n",
              "      <td>http://images.amazon.com/images/P/0060973129.0...</td>\n",
              "    </tr>\n",
              "    <tr>\n",
              "      <th>3</th>\n",
              "      <td>0374157065</td>\n",
              "      <td>Flu: The Story of the Great Influenza Pandemic...</td>\n",
              "      <td>Gina Bari Kolata</td>\n",
              "      <td>1999</td>\n",
              "      <td>Farrar Straus Giroux</td>\n",
              "      <td>http://images.amazon.com/images/P/0374157065.0...</td>\n",
              "      <td>http://images.amazon.com/images/P/0374157065.0...</td>\n",
              "      <td>http://images.amazon.com/images/P/0374157065.0...</td>\n",
              "    </tr>\n",
              "    <tr>\n",
              "      <th>4</th>\n",
              "      <td>0393045218</td>\n",
              "      <td>The Mummies of Urumchi</td>\n",
              "      <td>E. J. W. Barber</td>\n",
              "      <td>1999</td>\n",
              "      <td>W. W. Norton &amp;amp; Company</td>\n",
              "      <td>http://images.amazon.com/images/P/0393045218.0...</td>\n",
              "      <td>http://images.amazon.com/images/P/0393045218.0...</td>\n",
              "      <td>http://images.amazon.com/images/P/0393045218.0...</td>\n",
              "    </tr>\n",
              "  </tbody>\n",
              "</table>\n",
              "</div>\n",
              "      <button class=\"colab-df-convert\" onclick=\"convertToInteractive('df-a720ca2f-461f-4c3a-9f6b-7cc9d1a7760f')\"\n",
              "              title=\"Convert this dataframe to an interactive table.\"\n",
              "              style=\"display:none;\">\n",
              "        \n",
              "  <svg xmlns=\"http://www.w3.org/2000/svg\" height=\"24px\"viewBox=\"0 0 24 24\"\n",
              "       width=\"24px\">\n",
              "    <path d=\"M0 0h24v24H0V0z\" fill=\"none\"/>\n",
              "    <path d=\"M18.56 5.44l.94 2.06.94-2.06 2.06-.94-2.06-.94-.94-2.06-.94 2.06-2.06.94zm-11 1L8.5 8.5l.94-2.06 2.06-.94-2.06-.94L8.5 2.5l-.94 2.06-2.06.94zm10 10l.94 2.06.94-2.06 2.06-.94-2.06-.94-.94-2.06-.94 2.06-2.06.94z\"/><path d=\"M17.41 7.96l-1.37-1.37c-.4-.4-.92-.59-1.43-.59-.52 0-1.04.2-1.43.59L10.3 9.45l-7.72 7.72c-.78.78-.78 2.05 0 2.83L4 21.41c.39.39.9.59 1.41.59.51 0 1.02-.2 1.41-.59l7.78-7.78 2.81-2.81c.8-.78.8-2.07 0-2.86zM5.41 20L4 18.59l7.72-7.72 1.47 1.35L5.41 20z\"/>\n",
              "  </svg>\n",
              "      </button>\n",
              "      \n",
              "  <style>\n",
              "    .colab-df-container {\n",
              "      display:flex;\n",
              "      flex-wrap:wrap;\n",
              "      gap: 12px;\n",
              "    }\n",
              "\n",
              "    .colab-df-convert {\n",
              "      background-color: #E8F0FE;\n",
              "      border: none;\n",
              "      border-radius: 50%;\n",
              "      cursor: pointer;\n",
              "      display: none;\n",
              "      fill: #1967D2;\n",
              "      height: 32px;\n",
              "      padding: 0 0 0 0;\n",
              "      width: 32px;\n",
              "    }\n",
              "\n",
              "    .colab-df-convert:hover {\n",
              "      background-color: #E2EBFA;\n",
              "      box-shadow: 0px 1px 2px rgba(60, 64, 67, 0.3), 0px 1px 3px 1px rgba(60, 64, 67, 0.15);\n",
              "      fill: #174EA6;\n",
              "    }\n",
              "\n",
              "    [theme=dark] .colab-df-convert {\n",
              "      background-color: #3B4455;\n",
              "      fill: #D2E3FC;\n",
              "    }\n",
              "\n",
              "    [theme=dark] .colab-df-convert:hover {\n",
              "      background-color: #434B5C;\n",
              "      box-shadow: 0px 1px 3px 1px rgba(0, 0, 0, 0.15);\n",
              "      filter: drop-shadow(0px 1px 2px rgba(0, 0, 0, 0.3));\n",
              "      fill: #FFFFFF;\n",
              "    }\n",
              "  </style>\n",
              "\n",
              "      <script>\n",
              "        const buttonEl =\n",
              "          document.querySelector('#df-a720ca2f-461f-4c3a-9f6b-7cc9d1a7760f button.colab-df-convert');\n",
              "        buttonEl.style.display =\n",
              "          google.colab.kernel.accessAllowed ? 'block' : 'none';\n",
              "\n",
              "        async function convertToInteractive(key) {\n",
              "          const element = document.querySelector('#df-a720ca2f-461f-4c3a-9f6b-7cc9d1a7760f');\n",
              "          const dataTable =\n",
              "            await google.colab.kernel.invokeFunction('convertToInteractive',\n",
              "                                                     [key], {});\n",
              "          if (!dataTable) return;\n",
              "\n",
              "          const docLinkHtml = 'Like what you see? Visit the ' +\n",
              "            '<a target=\"_blank\" href=https://colab.research.google.com/notebooks/data_table.ipynb>data table notebook</a>'\n",
              "            + ' to learn more about interactive tables.';\n",
              "          element.innerHTML = '';\n",
              "          dataTable['output_type'] = 'display_data';\n",
              "          await google.colab.output.renderOutput(dataTable, element);\n",
              "          const docLink = document.createElement('div');\n",
              "          docLink.innerHTML = docLinkHtml;\n",
              "          element.appendChild(docLink);\n",
              "        }\n",
              "      </script>\n",
              "    </div>\n",
              "  </div>\n",
              "  "
            ]
          },
          "metadata": {},
          "execution_count": 152
        }
      ]
    },
    {
      "cell_type": "markdown",
      "source": [
        "Books_df contains all the information related to books like ISBN usually used for identification,title of the book,when was book published and image urls obtained from amazon website."
      ],
      "metadata": {
        "id": "omC8lXmTPTFw"
      }
    },
    {
      "cell_type": "code",
      "source": [
        "Ratings_df.head()"
      ],
      "metadata": {
        "colab": {
          "base_uri": "https://localhost:8080/",
          "height": 206
        },
        "id": "qDM_k3TJO3Tp",
        "outputId": "86d04ff8-98d0-4dba-dfdb-484a540b5d4d"
      },
      "execution_count": null,
      "outputs": [
        {
          "output_type": "execute_result",
          "data": {
            "text/plain": [
              "   User-ID        ISBN  Book-Rating\n",
              "0   276725  034545104X            0\n",
              "1   276726  0155061224            5\n",
              "2   276727  0446520802            0\n",
              "3   276729  052165615X            3\n",
              "4   276729  0521795028            6"
            ],
            "text/html": [
              "\n",
              "  <div id=\"df-e922932d-17c1-4d66-9c88-95f7e34956f0\">\n",
              "    <div class=\"colab-df-container\">\n",
              "      <div>\n",
              "<style scoped>\n",
              "    .dataframe tbody tr th:only-of-type {\n",
              "        vertical-align: middle;\n",
              "    }\n",
              "\n",
              "    .dataframe tbody tr th {\n",
              "        vertical-align: top;\n",
              "    }\n",
              "\n",
              "    .dataframe thead th {\n",
              "        text-align: right;\n",
              "    }\n",
              "</style>\n",
              "<table border=\"1\" class=\"dataframe\">\n",
              "  <thead>\n",
              "    <tr style=\"text-align: right;\">\n",
              "      <th></th>\n",
              "      <th>User-ID</th>\n",
              "      <th>ISBN</th>\n",
              "      <th>Book-Rating</th>\n",
              "    </tr>\n",
              "  </thead>\n",
              "  <tbody>\n",
              "    <tr>\n",
              "      <th>0</th>\n",
              "      <td>276725</td>\n",
              "      <td>034545104X</td>\n",
              "      <td>0</td>\n",
              "    </tr>\n",
              "    <tr>\n",
              "      <th>1</th>\n",
              "      <td>276726</td>\n",
              "      <td>0155061224</td>\n",
              "      <td>5</td>\n",
              "    </tr>\n",
              "    <tr>\n",
              "      <th>2</th>\n",
              "      <td>276727</td>\n",
              "      <td>0446520802</td>\n",
              "      <td>0</td>\n",
              "    </tr>\n",
              "    <tr>\n",
              "      <th>3</th>\n",
              "      <td>276729</td>\n",
              "      <td>052165615X</td>\n",
              "      <td>3</td>\n",
              "    </tr>\n",
              "    <tr>\n",
              "      <th>4</th>\n",
              "      <td>276729</td>\n",
              "      <td>0521795028</td>\n",
              "      <td>6</td>\n",
              "    </tr>\n",
              "  </tbody>\n",
              "</table>\n",
              "</div>\n",
              "      <button class=\"colab-df-convert\" onclick=\"convertToInteractive('df-e922932d-17c1-4d66-9c88-95f7e34956f0')\"\n",
              "              title=\"Convert this dataframe to an interactive table.\"\n",
              "              style=\"display:none;\">\n",
              "        \n",
              "  <svg xmlns=\"http://www.w3.org/2000/svg\" height=\"24px\"viewBox=\"0 0 24 24\"\n",
              "       width=\"24px\">\n",
              "    <path d=\"M0 0h24v24H0V0z\" fill=\"none\"/>\n",
              "    <path d=\"M18.56 5.44l.94 2.06.94-2.06 2.06-.94-2.06-.94-.94-2.06-.94 2.06-2.06.94zm-11 1L8.5 8.5l.94-2.06 2.06-.94-2.06-.94L8.5 2.5l-.94 2.06-2.06.94zm10 10l.94 2.06.94-2.06 2.06-.94-2.06-.94-.94-2.06-.94 2.06-2.06.94z\"/><path d=\"M17.41 7.96l-1.37-1.37c-.4-.4-.92-.59-1.43-.59-.52 0-1.04.2-1.43.59L10.3 9.45l-7.72 7.72c-.78.78-.78 2.05 0 2.83L4 21.41c.39.39.9.59 1.41.59.51 0 1.02-.2 1.41-.59l7.78-7.78 2.81-2.81c.8-.78.8-2.07 0-2.86zM5.41 20L4 18.59l7.72-7.72 1.47 1.35L5.41 20z\"/>\n",
              "  </svg>\n",
              "      </button>\n",
              "      \n",
              "  <style>\n",
              "    .colab-df-container {\n",
              "      display:flex;\n",
              "      flex-wrap:wrap;\n",
              "      gap: 12px;\n",
              "    }\n",
              "\n",
              "    .colab-df-convert {\n",
              "      background-color: #E8F0FE;\n",
              "      border: none;\n",
              "      border-radius: 50%;\n",
              "      cursor: pointer;\n",
              "      display: none;\n",
              "      fill: #1967D2;\n",
              "      height: 32px;\n",
              "      padding: 0 0 0 0;\n",
              "      width: 32px;\n",
              "    }\n",
              "\n",
              "    .colab-df-convert:hover {\n",
              "      background-color: #E2EBFA;\n",
              "      box-shadow: 0px 1px 2px rgba(60, 64, 67, 0.3), 0px 1px 3px 1px rgba(60, 64, 67, 0.15);\n",
              "      fill: #174EA6;\n",
              "    }\n",
              "\n",
              "    [theme=dark] .colab-df-convert {\n",
              "      background-color: #3B4455;\n",
              "      fill: #D2E3FC;\n",
              "    }\n",
              "\n",
              "    [theme=dark] .colab-df-convert:hover {\n",
              "      background-color: #434B5C;\n",
              "      box-shadow: 0px 1px 3px 1px rgba(0, 0, 0, 0.15);\n",
              "      filter: drop-shadow(0px 1px 2px rgba(0, 0, 0, 0.3));\n",
              "      fill: #FFFFFF;\n",
              "    }\n",
              "  </style>\n",
              "\n",
              "      <script>\n",
              "        const buttonEl =\n",
              "          document.querySelector('#df-e922932d-17c1-4d66-9c88-95f7e34956f0 button.colab-df-convert');\n",
              "        buttonEl.style.display =\n",
              "          google.colab.kernel.accessAllowed ? 'block' : 'none';\n",
              "\n",
              "        async function convertToInteractive(key) {\n",
              "          const element = document.querySelector('#df-e922932d-17c1-4d66-9c88-95f7e34956f0');\n",
              "          const dataTable =\n",
              "            await google.colab.kernel.invokeFunction('convertToInteractive',\n",
              "                                                     [key], {});\n",
              "          if (!dataTable) return;\n",
              "\n",
              "          const docLinkHtml = 'Like what you see? Visit the ' +\n",
              "            '<a target=\"_blank\" href=https://colab.research.google.com/notebooks/data_table.ipynb>data table notebook</a>'\n",
              "            + ' to learn more about interactive tables.';\n",
              "          element.innerHTML = '';\n",
              "          dataTable['output_type'] = 'display_data';\n",
              "          await google.colab.output.renderOutput(dataTable, element);\n",
              "          const docLink = document.createElement('div');\n",
              "          docLink.innerHTML = docLinkHtml;\n",
              "          element.appendChild(docLink);\n",
              "        }\n",
              "      </script>\n",
              "    </div>\n",
              "  </div>\n",
              "  "
            ]
          },
          "metadata": {},
          "execution_count": 94
        }
      ]
    },
    {
      "cell_type": "markdown",
      "source": [
        "Ratings_df contains rating for the books."
      ],
      "metadata": {
        "id": "d1Qk-q2WP8nF"
      }
    },
    {
      "cell_type": "code",
      "source": [
        "Users_df.head()"
      ],
      "metadata": {
        "colab": {
          "base_uri": "https://localhost:8080/",
          "height": 206
        },
        "id": "XYoBbWmlO8pq",
        "outputId": "959386e4-c429-4606-b99d-a72eeed8b72e"
      },
      "execution_count": null,
      "outputs": [
        {
          "output_type": "execute_result",
          "data": {
            "text/plain": [
              "   User-ID                            Location   Age\n",
              "0        1                  nyc, new york, usa   NaN\n",
              "1        2           stockton, california, usa  18.0\n",
              "2        3     moscow, yukon territory, russia   NaN\n",
              "3        4           porto, v.n.gaia, portugal  17.0\n",
              "4        5  farnborough, hants, united kingdom   NaN"
            ],
            "text/html": [
              "\n",
              "  <div id=\"df-0345c1b9-8e53-46f9-a360-4bf466669bb1\">\n",
              "    <div class=\"colab-df-container\">\n",
              "      <div>\n",
              "<style scoped>\n",
              "    .dataframe tbody tr th:only-of-type {\n",
              "        vertical-align: middle;\n",
              "    }\n",
              "\n",
              "    .dataframe tbody tr th {\n",
              "        vertical-align: top;\n",
              "    }\n",
              "\n",
              "    .dataframe thead th {\n",
              "        text-align: right;\n",
              "    }\n",
              "</style>\n",
              "<table border=\"1\" class=\"dataframe\">\n",
              "  <thead>\n",
              "    <tr style=\"text-align: right;\">\n",
              "      <th></th>\n",
              "      <th>User-ID</th>\n",
              "      <th>Location</th>\n",
              "      <th>Age</th>\n",
              "    </tr>\n",
              "  </thead>\n",
              "  <tbody>\n",
              "    <tr>\n",
              "      <th>0</th>\n",
              "      <td>1</td>\n",
              "      <td>nyc, new york, usa</td>\n",
              "      <td>NaN</td>\n",
              "    </tr>\n",
              "    <tr>\n",
              "      <th>1</th>\n",
              "      <td>2</td>\n",
              "      <td>stockton, california, usa</td>\n",
              "      <td>18.0</td>\n",
              "    </tr>\n",
              "    <tr>\n",
              "      <th>2</th>\n",
              "      <td>3</td>\n",
              "      <td>moscow, yukon territory, russia</td>\n",
              "      <td>NaN</td>\n",
              "    </tr>\n",
              "    <tr>\n",
              "      <th>3</th>\n",
              "      <td>4</td>\n",
              "      <td>porto, v.n.gaia, portugal</td>\n",
              "      <td>17.0</td>\n",
              "    </tr>\n",
              "    <tr>\n",
              "      <th>4</th>\n",
              "      <td>5</td>\n",
              "      <td>farnborough, hants, united kingdom</td>\n",
              "      <td>NaN</td>\n",
              "    </tr>\n",
              "  </tbody>\n",
              "</table>\n",
              "</div>\n",
              "      <button class=\"colab-df-convert\" onclick=\"convertToInteractive('df-0345c1b9-8e53-46f9-a360-4bf466669bb1')\"\n",
              "              title=\"Convert this dataframe to an interactive table.\"\n",
              "              style=\"display:none;\">\n",
              "        \n",
              "  <svg xmlns=\"http://www.w3.org/2000/svg\" height=\"24px\"viewBox=\"0 0 24 24\"\n",
              "       width=\"24px\">\n",
              "    <path d=\"M0 0h24v24H0V0z\" fill=\"none\"/>\n",
              "    <path d=\"M18.56 5.44l.94 2.06.94-2.06 2.06-.94-2.06-.94-.94-2.06-.94 2.06-2.06.94zm-11 1L8.5 8.5l.94-2.06 2.06-.94-2.06-.94L8.5 2.5l-.94 2.06-2.06.94zm10 10l.94 2.06.94-2.06 2.06-.94-2.06-.94-.94-2.06-.94 2.06-2.06.94z\"/><path d=\"M17.41 7.96l-1.37-1.37c-.4-.4-.92-.59-1.43-.59-.52 0-1.04.2-1.43.59L10.3 9.45l-7.72 7.72c-.78.78-.78 2.05 0 2.83L4 21.41c.39.39.9.59 1.41.59.51 0 1.02-.2 1.41-.59l7.78-7.78 2.81-2.81c.8-.78.8-2.07 0-2.86zM5.41 20L4 18.59l7.72-7.72 1.47 1.35L5.41 20z\"/>\n",
              "  </svg>\n",
              "      </button>\n",
              "      \n",
              "  <style>\n",
              "    .colab-df-container {\n",
              "      display:flex;\n",
              "      flex-wrap:wrap;\n",
              "      gap: 12px;\n",
              "    }\n",
              "\n",
              "    .colab-df-convert {\n",
              "      background-color: #E8F0FE;\n",
              "      border: none;\n",
              "      border-radius: 50%;\n",
              "      cursor: pointer;\n",
              "      display: none;\n",
              "      fill: #1967D2;\n",
              "      height: 32px;\n",
              "      padding: 0 0 0 0;\n",
              "      width: 32px;\n",
              "    }\n",
              "\n",
              "    .colab-df-convert:hover {\n",
              "      background-color: #E2EBFA;\n",
              "      box-shadow: 0px 1px 2px rgba(60, 64, 67, 0.3), 0px 1px 3px 1px rgba(60, 64, 67, 0.15);\n",
              "      fill: #174EA6;\n",
              "    }\n",
              "\n",
              "    [theme=dark] .colab-df-convert {\n",
              "      background-color: #3B4455;\n",
              "      fill: #D2E3FC;\n",
              "    }\n",
              "\n",
              "    [theme=dark] .colab-df-convert:hover {\n",
              "      background-color: #434B5C;\n",
              "      box-shadow: 0px 1px 3px 1px rgba(0, 0, 0, 0.15);\n",
              "      filter: drop-shadow(0px 1px 2px rgba(0, 0, 0, 0.3));\n",
              "      fill: #FFFFFF;\n",
              "    }\n",
              "  </style>\n",
              "\n",
              "      <script>\n",
              "        const buttonEl =\n",
              "          document.querySelector('#df-0345c1b9-8e53-46f9-a360-4bf466669bb1 button.colab-df-convert');\n",
              "        buttonEl.style.display =\n",
              "          google.colab.kernel.accessAllowed ? 'block' : 'none';\n",
              "\n",
              "        async function convertToInteractive(key) {\n",
              "          const element = document.querySelector('#df-0345c1b9-8e53-46f9-a360-4bf466669bb1');\n",
              "          const dataTable =\n",
              "            await google.colab.kernel.invokeFunction('convertToInteractive',\n",
              "                                                     [key], {});\n",
              "          if (!dataTable) return;\n",
              "\n",
              "          const docLinkHtml = 'Like what you see? Visit the ' +\n",
              "            '<a target=\"_blank\" href=https://colab.research.google.com/notebooks/data_table.ipynb>data table notebook</a>'\n",
              "            + ' to learn more about interactive tables.';\n",
              "          element.innerHTML = '';\n",
              "          dataTable['output_type'] = 'display_data';\n",
              "          await google.colab.output.renderOutput(dataTable, element);\n",
              "          const docLink = document.createElement('div');\n",
              "          docLink.innerHTML = docLinkHtml;\n",
              "          element.appendChild(docLink);\n",
              "        }\n",
              "      </script>\n",
              "    </div>\n",
              "  </div>\n",
              "  "
            ]
          },
          "metadata": {},
          "execution_count": 95
        }
      ]
    },
    {
      "cell_type": "markdown",
      "source": [
        "user_df contains unique user IDs for each user with their location and Age.\n",
        "Also we can see some null values in this dataset."
      ],
      "metadata": {
        "id": "pdzd_iYuPI5s"
      }
    },
    {
      "cell_type": "markdown",
      "source": [
        "**Shape of the datasets**"
      ],
      "metadata": {
        "id": "7wACZskBRk1x"
      }
    },
    {
      "cell_type": "code",
      "source": [
        "#Shape of books dataset\n",
        "Books_df.shape\n"
      ],
      "metadata": {
        "colab": {
          "base_uri": "https://localhost:8080/"
        },
        "id": "UZPbCdGsQwGi",
        "outputId": "de27eb25-3008-45c1-e2c8-29923c32c72f"
      },
      "execution_count": null,
      "outputs": [
        {
          "output_type": "execute_result",
          "data": {
            "text/plain": [
              "(271360, 8)"
            ]
          },
          "metadata": {},
          "execution_count": 96
        }
      ]
    },
    {
      "cell_type": "code",
      "source": [
        "#Shape of ratings dataset\n",
        "Ratings_df.shape\n"
      ],
      "metadata": {
        "colab": {
          "base_uri": "https://localhost:8080/"
        },
        "id": "pwbfoZWsRMf4",
        "outputId": "0d50f8f0-1207-4df5-d71a-b746b7e90cb3"
      },
      "execution_count": null,
      "outputs": [
        {
          "output_type": "execute_result",
          "data": {
            "text/plain": [
              "(1149780, 3)"
            ]
          },
          "metadata": {},
          "execution_count": 16
        }
      ]
    },
    {
      "cell_type": "code",
      "source": [
        "#Shape of Users dataset\n",
        "Users_df.shape"
      ],
      "metadata": {
        "colab": {
          "base_uri": "https://localhost:8080/"
        },
        "id": "_cXWZRbkRQIM",
        "outputId": "f4236311-6340-4c25-adb0-7dd7a90d7665"
      },
      "execution_count": null,
      "outputs": [
        {
          "output_type": "execute_result",
          "data": {
            "text/plain": [
              "(278858, 3)"
            ]
          },
          "metadata": {},
          "execution_count": 17
        }
      ]
    },
    {
      "cell_type": "markdown",
      "source": [
        "We can see that, Books_df contains 271360 rows and 8 columns.Ratings_df contains 1149780 rows and 3 columns and Users_df contains 278858 rows and 3 columns."
      ],
      "metadata": {
        "id": "B_XC-QXuRSO7"
      }
    },
    {
      "cell_type": "markdown",
      "source": [
        "**Gathering all the information about datasets**"
      ],
      "metadata": {
        "id": "kM2T-tYWVG8p"
      }
    },
    {
      "cell_type": "code",
      "source": [
        "Books_df.info()\n",
        "print(\"--------------------------------------------------------\")\n",
        "Ratings_df.info()\n",
        "print(\"--------------------------------------------------------\")\n",
        "Users_df.info()"
      ],
      "metadata": {
        "colab": {
          "base_uri": "https://localhost:8080/"
        },
        "id": "YPoQR0qDUn4y",
        "outputId": "3ecb22ea-a013-4394-fe1f-1bb73b88ca07"
      },
      "execution_count": 153,
      "outputs": [
        {
          "output_type": "stream",
          "name": "stdout",
          "text": [
            "<class 'pandas.core.frame.DataFrame'>\n",
            "RangeIndex: 271360 entries, 0 to 271359\n",
            "Data columns (total 8 columns):\n",
            " #   Column               Non-Null Count   Dtype \n",
            "---  ------               --------------   ----- \n",
            " 0   ISBN                 271360 non-null  object\n",
            " 1   Book-Title           271360 non-null  object\n",
            " 2   Book-Author          271359 non-null  object\n",
            " 3   Year-Of-Publication  271360 non-null  object\n",
            " 4   Publisher            271358 non-null  object\n",
            " 5   Image-URL-S          271360 non-null  object\n",
            " 6   Image-URL-M          271360 non-null  object\n",
            " 7   Image-URL-L          271357 non-null  object\n",
            "dtypes: object(8)\n",
            "memory usage: 16.6+ MB\n",
            "--------------------------------------------------------\n",
            "<class 'pandas.core.frame.DataFrame'>\n",
            "RangeIndex: 1149780 entries, 0 to 1149779\n",
            "Data columns (total 3 columns):\n",
            " #   Column       Non-Null Count    Dtype \n",
            "---  ------       --------------    ----- \n",
            " 0   User-ID      1149780 non-null  int64 \n",
            " 1   ISBN         1149780 non-null  object\n",
            " 2   Book-Rating  1149780 non-null  int64 \n",
            "dtypes: int64(2), object(1)\n",
            "memory usage: 26.3+ MB\n",
            "--------------------------------------------------------\n",
            "<class 'pandas.core.frame.DataFrame'>\n",
            "RangeIndex: 278858 entries, 0 to 278857\n",
            "Data columns (total 3 columns):\n",
            " #   Column    Non-Null Count   Dtype  \n",
            "---  ------    --------------   -----  \n",
            " 0   User-ID   278858 non-null  int64  \n",
            " 1   Location  278858 non-null  object \n",
            " 2   Age       168096 non-null  float64\n",
            "dtypes: float64(1), int64(1), object(1)\n",
            "memory usage: 6.4+ MB\n"
          ]
        }
      ]
    },
    {
      "cell_type": "markdown",
      "source": [
        "Previously we have seen the number of columns and rows in our datasets.Here we can see some additional information like dtypes and memory usage too.\n"
      ],
      "metadata": {
        "id": "9UXalO_rVTM4"
      }
    },
    {
      "cell_type": "markdown",
      "source": [
        "## **Feature Engineering**"
      ],
      "metadata": {
        "id": "MJoP7ftOXLsj"
      }
    },
    {
      "cell_type": "code",
      "source": [
        "#Checking null values\n",
        "Books_df.isnull().sum()"
      ],
      "metadata": {
        "colab": {
          "base_uri": "https://localhost:8080/"
        },
        "id": "G7u-mtSxXVLd",
        "outputId": "e4222110-ae6d-4666-9c91-9e40027cd28e"
      },
      "execution_count": 154,
      "outputs": [
        {
          "output_type": "execute_result",
          "data": {
            "text/plain": [
              "ISBN                   0\n",
              "Book-Title             0\n",
              "Book-Author            1\n",
              "Year-Of-Publication    0\n",
              "Publisher              2\n",
              "Image-URL-S            0\n",
              "Image-URL-M            0\n",
              "Image-URL-L            3\n",
              "dtype: int64"
            ]
          },
          "metadata": {},
          "execution_count": 154
        }
      ]
    },
    {
      "cell_type": "code",
      "source": [
        "Ratings_df.isnull().sum()\n"
      ],
      "metadata": {
        "colab": {
          "base_uri": "https://localhost:8080/"
        },
        "id": "slRTP3Y5XpTd",
        "outputId": "9bd12574-96e9-499b-f32f-52c19c01b335"
      },
      "execution_count": 155,
      "outputs": [
        {
          "output_type": "execute_result",
          "data": {
            "text/plain": [
              "User-ID        0\n",
              "ISBN           0\n",
              "Book-Rating    0\n",
              "dtype: int64"
            ]
          },
          "metadata": {},
          "execution_count": 155
        }
      ]
    },
    {
      "cell_type": "code",
      "source": [
        "Users_df.isnull().sum()"
      ],
      "metadata": {
        "colab": {
          "base_uri": "https://localhost:8080/"
        },
        "id": "OSF0TEPwX6P1",
        "outputId": "9ba643b1-0f24-4ae7-8eb5-f0a59d89eb34"
      },
      "execution_count": 156,
      "outputs": [
        {
          "output_type": "execute_result",
          "data": {
            "text/plain": [
              "User-ID          0\n",
              "Location         0\n",
              "Age         110762\n",
              "dtype: int64"
            ]
          },
          "metadata": {},
          "execution_count": 156
        }
      ]
    },
    {
      "cell_type": "markdown",
      "source": [
        "Here we can conclude that there are minor amount of null values in books dataset and there are 110762 null values in users dataset."
      ],
      "metadata": {
        "id": "paGQlNaEZl_g"
      }
    },
    {
      "cell_type": "code",
      "source": [
        "#Removing all the rows with missing data in books dataset\n",
        "Books_df.dropna()"
      ],
      "metadata": {
        "colab": {
          "base_uri": "https://localhost:8080/",
          "height": 938
        },
        "id": "Npqct900dAeT",
        "outputId": "f7ef17a2-157a-4ac9-f1f5-ae915c90fd8a"
      },
      "execution_count": 157,
      "outputs": [
        {
          "output_type": "execute_result",
          "data": {
            "text/plain": [
              "              ISBN                                         Book-Title  \\\n",
              "0       0195153448                                Classical Mythology   \n",
              "1       0002005018                                       Clara Callan   \n",
              "2       0060973129                               Decision in Normandy   \n",
              "3       0374157065  Flu: The Story of the Great Influenza Pandemic...   \n",
              "4       0393045218                             The Mummies of Urumchi   \n",
              "...            ...                                                ...   \n",
              "271355  0440400988                         There's a Bat in Bunk Five   \n",
              "271356  0525447644                            From One to One Hundred   \n",
              "271357  006008667X  Lily Dale : The True Story of the Town that Ta...   \n",
              "271358  0192126040                        Republic (World's Classics)   \n",
              "271359  0767409752  A Guided Tour of Rene Descartes' Meditations o...   \n",
              "\n",
              "                 Book-Author Year-Of-Publication  \\\n",
              "0         Mark P. O. Morford                2002   \n",
              "1       Richard Bruce Wright                2001   \n",
              "2               Carlo D'Este                1991   \n",
              "3           Gina Bari Kolata                1999   \n",
              "4            E. J. W. Barber                1999   \n",
              "...                      ...                 ...   \n",
              "271355        Paula Danziger                1988   \n",
              "271356            Teri Sloat                1991   \n",
              "271357      Christine Wicker                2004   \n",
              "271358                 Plato                1996   \n",
              "271359   Christopher  Biffle                2000   \n",
              "\n",
              "                                               Publisher  \\\n",
              "0                                Oxford University Press   \n",
              "1                                  HarperFlamingo Canada   \n",
              "2                                        HarperPerennial   \n",
              "3                                   Farrar Straus Giroux   \n",
              "4                             W. W. Norton &amp; Company   \n",
              "...                                                  ...   \n",
              "271355                   Random House Childrens Pub (Mm)   \n",
              "271356                                      Dutton Books   \n",
              "271357                                HarperSanFrancisco   \n",
              "271358                           Oxford University Press   \n",
              "271359  McGraw-Hill Humanities/Social Sciences/Languages   \n",
              "\n",
              "                                              Image-URL-S  \\\n",
              "0       http://images.amazon.com/images/P/0195153448.0...   \n",
              "1       http://images.amazon.com/images/P/0002005018.0...   \n",
              "2       http://images.amazon.com/images/P/0060973129.0...   \n",
              "3       http://images.amazon.com/images/P/0374157065.0...   \n",
              "4       http://images.amazon.com/images/P/0393045218.0...   \n",
              "...                                                   ...   \n",
              "271355  http://images.amazon.com/images/P/0440400988.0...   \n",
              "271356  http://images.amazon.com/images/P/0525447644.0...   \n",
              "271357  http://images.amazon.com/images/P/006008667X.0...   \n",
              "271358  http://images.amazon.com/images/P/0192126040.0...   \n",
              "271359  http://images.amazon.com/images/P/0767409752.0...   \n",
              "\n",
              "                                              Image-URL-M  \\\n",
              "0       http://images.amazon.com/images/P/0195153448.0...   \n",
              "1       http://images.amazon.com/images/P/0002005018.0...   \n",
              "2       http://images.amazon.com/images/P/0060973129.0...   \n",
              "3       http://images.amazon.com/images/P/0374157065.0...   \n",
              "4       http://images.amazon.com/images/P/0393045218.0...   \n",
              "...                                                   ...   \n",
              "271355  http://images.amazon.com/images/P/0440400988.0...   \n",
              "271356  http://images.amazon.com/images/P/0525447644.0...   \n",
              "271357  http://images.amazon.com/images/P/006008667X.0...   \n",
              "271358  http://images.amazon.com/images/P/0192126040.0...   \n",
              "271359  http://images.amazon.com/images/P/0767409752.0...   \n",
              "\n",
              "                                              Image-URL-L  \n",
              "0       http://images.amazon.com/images/P/0195153448.0...  \n",
              "1       http://images.amazon.com/images/P/0002005018.0...  \n",
              "2       http://images.amazon.com/images/P/0060973129.0...  \n",
              "3       http://images.amazon.com/images/P/0374157065.0...  \n",
              "4       http://images.amazon.com/images/P/0393045218.0...  \n",
              "...                                                   ...  \n",
              "271355  http://images.amazon.com/images/P/0440400988.0...  \n",
              "271356  http://images.amazon.com/images/P/0525447644.0...  \n",
              "271357  http://images.amazon.com/images/P/006008667X.0...  \n",
              "271358  http://images.amazon.com/images/P/0192126040.0...  \n",
              "271359  http://images.amazon.com/images/P/0767409752.0...  \n",
              "\n",
              "[271354 rows x 8 columns]"
            ],
            "text/html": [
              "\n",
              "  <div id=\"df-c4968670-92a3-4f22-b919-3ceea09ff775\">\n",
              "    <div class=\"colab-df-container\">\n",
              "      <div>\n",
              "<style scoped>\n",
              "    .dataframe tbody tr th:only-of-type {\n",
              "        vertical-align: middle;\n",
              "    }\n",
              "\n",
              "    .dataframe tbody tr th {\n",
              "        vertical-align: top;\n",
              "    }\n",
              "\n",
              "    .dataframe thead th {\n",
              "        text-align: right;\n",
              "    }\n",
              "</style>\n",
              "<table border=\"1\" class=\"dataframe\">\n",
              "  <thead>\n",
              "    <tr style=\"text-align: right;\">\n",
              "      <th></th>\n",
              "      <th>ISBN</th>\n",
              "      <th>Book-Title</th>\n",
              "      <th>Book-Author</th>\n",
              "      <th>Year-Of-Publication</th>\n",
              "      <th>Publisher</th>\n",
              "      <th>Image-URL-S</th>\n",
              "      <th>Image-URL-M</th>\n",
              "      <th>Image-URL-L</th>\n",
              "    </tr>\n",
              "  </thead>\n",
              "  <tbody>\n",
              "    <tr>\n",
              "      <th>0</th>\n",
              "      <td>0195153448</td>\n",
              "      <td>Classical Mythology</td>\n",
              "      <td>Mark P. O. Morford</td>\n",
              "      <td>2002</td>\n",
              "      <td>Oxford University Press</td>\n",
              "      <td>http://images.amazon.com/images/P/0195153448.0...</td>\n",
              "      <td>http://images.amazon.com/images/P/0195153448.0...</td>\n",
              "      <td>http://images.amazon.com/images/P/0195153448.0...</td>\n",
              "    </tr>\n",
              "    <tr>\n",
              "      <th>1</th>\n",
              "      <td>0002005018</td>\n",
              "      <td>Clara Callan</td>\n",
              "      <td>Richard Bruce Wright</td>\n",
              "      <td>2001</td>\n",
              "      <td>HarperFlamingo Canada</td>\n",
              "      <td>http://images.amazon.com/images/P/0002005018.0...</td>\n",
              "      <td>http://images.amazon.com/images/P/0002005018.0...</td>\n",
              "      <td>http://images.amazon.com/images/P/0002005018.0...</td>\n",
              "    </tr>\n",
              "    <tr>\n",
              "      <th>2</th>\n",
              "      <td>0060973129</td>\n",
              "      <td>Decision in Normandy</td>\n",
              "      <td>Carlo D'Este</td>\n",
              "      <td>1991</td>\n",
              "      <td>HarperPerennial</td>\n",
              "      <td>http://images.amazon.com/images/P/0060973129.0...</td>\n",
              "      <td>http://images.amazon.com/images/P/0060973129.0...</td>\n",
              "      <td>http://images.amazon.com/images/P/0060973129.0...</td>\n",
              "    </tr>\n",
              "    <tr>\n",
              "      <th>3</th>\n",
              "      <td>0374157065</td>\n",
              "      <td>Flu: The Story of the Great Influenza Pandemic...</td>\n",
              "      <td>Gina Bari Kolata</td>\n",
              "      <td>1999</td>\n",
              "      <td>Farrar Straus Giroux</td>\n",
              "      <td>http://images.amazon.com/images/P/0374157065.0...</td>\n",
              "      <td>http://images.amazon.com/images/P/0374157065.0...</td>\n",
              "      <td>http://images.amazon.com/images/P/0374157065.0...</td>\n",
              "    </tr>\n",
              "    <tr>\n",
              "      <th>4</th>\n",
              "      <td>0393045218</td>\n",
              "      <td>The Mummies of Urumchi</td>\n",
              "      <td>E. J. W. Barber</td>\n",
              "      <td>1999</td>\n",
              "      <td>W. W. Norton &amp;amp; Company</td>\n",
              "      <td>http://images.amazon.com/images/P/0393045218.0...</td>\n",
              "      <td>http://images.amazon.com/images/P/0393045218.0...</td>\n",
              "      <td>http://images.amazon.com/images/P/0393045218.0...</td>\n",
              "    </tr>\n",
              "    <tr>\n",
              "      <th>...</th>\n",
              "      <td>...</td>\n",
              "      <td>...</td>\n",
              "      <td>...</td>\n",
              "      <td>...</td>\n",
              "      <td>...</td>\n",
              "      <td>...</td>\n",
              "      <td>...</td>\n",
              "      <td>...</td>\n",
              "    </tr>\n",
              "    <tr>\n",
              "      <th>271355</th>\n",
              "      <td>0440400988</td>\n",
              "      <td>There's a Bat in Bunk Five</td>\n",
              "      <td>Paula Danziger</td>\n",
              "      <td>1988</td>\n",
              "      <td>Random House Childrens Pub (Mm)</td>\n",
              "      <td>http://images.amazon.com/images/P/0440400988.0...</td>\n",
              "      <td>http://images.amazon.com/images/P/0440400988.0...</td>\n",
              "      <td>http://images.amazon.com/images/P/0440400988.0...</td>\n",
              "    </tr>\n",
              "    <tr>\n",
              "      <th>271356</th>\n",
              "      <td>0525447644</td>\n",
              "      <td>From One to One Hundred</td>\n",
              "      <td>Teri Sloat</td>\n",
              "      <td>1991</td>\n",
              "      <td>Dutton Books</td>\n",
              "      <td>http://images.amazon.com/images/P/0525447644.0...</td>\n",
              "      <td>http://images.amazon.com/images/P/0525447644.0...</td>\n",
              "      <td>http://images.amazon.com/images/P/0525447644.0...</td>\n",
              "    </tr>\n",
              "    <tr>\n",
              "      <th>271357</th>\n",
              "      <td>006008667X</td>\n",
              "      <td>Lily Dale : The True Story of the Town that Ta...</td>\n",
              "      <td>Christine Wicker</td>\n",
              "      <td>2004</td>\n",
              "      <td>HarperSanFrancisco</td>\n",
              "      <td>http://images.amazon.com/images/P/006008667X.0...</td>\n",
              "      <td>http://images.amazon.com/images/P/006008667X.0...</td>\n",
              "      <td>http://images.amazon.com/images/P/006008667X.0...</td>\n",
              "    </tr>\n",
              "    <tr>\n",
              "      <th>271358</th>\n",
              "      <td>0192126040</td>\n",
              "      <td>Republic (World's Classics)</td>\n",
              "      <td>Plato</td>\n",
              "      <td>1996</td>\n",
              "      <td>Oxford University Press</td>\n",
              "      <td>http://images.amazon.com/images/P/0192126040.0...</td>\n",
              "      <td>http://images.amazon.com/images/P/0192126040.0...</td>\n",
              "      <td>http://images.amazon.com/images/P/0192126040.0...</td>\n",
              "    </tr>\n",
              "    <tr>\n",
              "      <th>271359</th>\n",
              "      <td>0767409752</td>\n",
              "      <td>A Guided Tour of Rene Descartes' Meditations o...</td>\n",
              "      <td>Christopher  Biffle</td>\n",
              "      <td>2000</td>\n",
              "      <td>McGraw-Hill Humanities/Social Sciences/Languages</td>\n",
              "      <td>http://images.amazon.com/images/P/0767409752.0...</td>\n",
              "      <td>http://images.amazon.com/images/P/0767409752.0...</td>\n",
              "      <td>http://images.amazon.com/images/P/0767409752.0...</td>\n",
              "    </tr>\n",
              "  </tbody>\n",
              "</table>\n",
              "<p>271354 rows × 8 columns</p>\n",
              "</div>\n",
              "      <button class=\"colab-df-convert\" onclick=\"convertToInteractive('df-c4968670-92a3-4f22-b919-3ceea09ff775')\"\n",
              "              title=\"Convert this dataframe to an interactive table.\"\n",
              "              style=\"display:none;\">\n",
              "        \n",
              "  <svg xmlns=\"http://www.w3.org/2000/svg\" height=\"24px\"viewBox=\"0 0 24 24\"\n",
              "       width=\"24px\">\n",
              "    <path d=\"M0 0h24v24H0V0z\" fill=\"none\"/>\n",
              "    <path d=\"M18.56 5.44l.94 2.06.94-2.06 2.06-.94-2.06-.94-.94-2.06-.94 2.06-2.06.94zm-11 1L8.5 8.5l.94-2.06 2.06-.94-2.06-.94L8.5 2.5l-.94 2.06-2.06.94zm10 10l.94 2.06.94-2.06 2.06-.94-2.06-.94-.94-2.06-.94 2.06-2.06.94z\"/><path d=\"M17.41 7.96l-1.37-1.37c-.4-.4-.92-.59-1.43-.59-.52 0-1.04.2-1.43.59L10.3 9.45l-7.72 7.72c-.78.78-.78 2.05 0 2.83L4 21.41c.39.39.9.59 1.41.59.51 0 1.02-.2 1.41-.59l7.78-7.78 2.81-2.81c.8-.78.8-2.07 0-2.86zM5.41 20L4 18.59l7.72-7.72 1.47 1.35L5.41 20z\"/>\n",
              "  </svg>\n",
              "      </button>\n",
              "      \n",
              "  <style>\n",
              "    .colab-df-container {\n",
              "      display:flex;\n",
              "      flex-wrap:wrap;\n",
              "      gap: 12px;\n",
              "    }\n",
              "\n",
              "    .colab-df-convert {\n",
              "      background-color: #E8F0FE;\n",
              "      border: none;\n",
              "      border-radius: 50%;\n",
              "      cursor: pointer;\n",
              "      display: none;\n",
              "      fill: #1967D2;\n",
              "      height: 32px;\n",
              "      padding: 0 0 0 0;\n",
              "      width: 32px;\n",
              "    }\n",
              "\n",
              "    .colab-df-convert:hover {\n",
              "      background-color: #E2EBFA;\n",
              "      box-shadow: 0px 1px 2px rgba(60, 64, 67, 0.3), 0px 1px 3px 1px rgba(60, 64, 67, 0.15);\n",
              "      fill: #174EA6;\n",
              "    }\n",
              "\n",
              "    [theme=dark] .colab-df-convert {\n",
              "      background-color: #3B4455;\n",
              "      fill: #D2E3FC;\n",
              "    }\n",
              "\n",
              "    [theme=dark] .colab-df-convert:hover {\n",
              "      background-color: #434B5C;\n",
              "      box-shadow: 0px 1px 3px 1px rgba(0, 0, 0, 0.15);\n",
              "      filter: drop-shadow(0px 1px 2px rgba(0, 0, 0, 0.3));\n",
              "      fill: #FFFFFF;\n",
              "    }\n",
              "  </style>\n",
              "\n",
              "      <script>\n",
              "        const buttonEl =\n",
              "          document.querySelector('#df-c4968670-92a3-4f22-b919-3ceea09ff775 button.colab-df-convert');\n",
              "        buttonEl.style.display =\n",
              "          google.colab.kernel.accessAllowed ? 'block' : 'none';\n",
              "\n",
              "        async function convertToInteractive(key) {\n",
              "          const element = document.querySelector('#df-c4968670-92a3-4f22-b919-3ceea09ff775');\n",
              "          const dataTable =\n",
              "            await google.colab.kernel.invokeFunction('convertToInteractive',\n",
              "                                                     [key], {});\n",
              "          if (!dataTable) return;\n",
              "\n",
              "          const docLinkHtml = 'Like what you see? Visit the ' +\n",
              "            '<a target=\"_blank\" href=https://colab.research.google.com/notebooks/data_table.ipynb>data table notebook</a>'\n",
              "            + ' to learn more about interactive tables.';\n",
              "          element.innerHTML = '';\n",
              "          dataTable['output_type'] = 'display_data';\n",
              "          await google.colab.output.renderOutput(dataTable, element);\n",
              "          const docLink = document.createElement('div');\n",
              "          docLink.innerHTML = docLinkHtml;\n",
              "          element.appendChild(docLink);\n",
              "        }\n",
              "      </script>\n",
              "    </div>\n",
              "  </div>\n",
              "  "
            ]
          },
          "metadata": {},
          "execution_count": 157
        }
      ]
    },
    {
      "cell_type": "code",
      "source": [
        "print(sorted(Users_df.Age.unique()))\n"
      ],
      "metadata": {
        "colab": {
          "base_uri": "https://localhost:8080/"
        },
        "id": "Lv9CL4yJdWER",
        "outputId": "4482ace2-5919-4775-b736-a5491510e0ec"
      },
      "execution_count": 158,
      "outputs": [
        {
          "output_type": "stream",
          "name": "stdout",
          "text": [
            "[nan, 0.0, 1.0, 2.0, 3.0, 4.0, 5.0, 6.0, 7.0, 8.0, 9.0, 10.0, 11.0, 12.0, 13.0, 14.0, 15.0, 16.0, 17.0, 18.0, 19.0, 20.0, 21.0, 22.0, 23.0, 24.0, 25.0, 26.0, 27.0, 28.0, 29.0, 30.0, 31.0, 32.0, 33.0, 34.0, 35.0, 36.0, 37.0, 38.0, 39.0, 40.0, 41.0, 42.0, 43.0, 44.0, 45.0, 46.0, 47.0, 48.0, 49.0, 50.0, 51.0, 52.0, 53.0, 54.0, 55.0, 56.0, 57.0, 58.0, 59.0, 60.0, 61.0, 62.0, 63.0, 64.0, 65.0, 66.0, 67.0, 68.0, 69.0, 70.0, 71.0, 72.0, 73.0, 74.0, 75.0, 76.0, 77.0, 78.0, 79.0, 80.0, 81.0, 82.0, 83.0, 84.0, 85.0, 86.0, 87.0, 88.0, 89.0, 90.0, 91.0, 92.0, 93.0, 94.0, 95.0, 96.0, 97.0, 98.0, 99.0, 100.0, 101.0, 102.0, 103.0, 104.0, 105.0, 106.0, 107.0, 108.0, 109.0, 110.0, 111.0, 113.0, 114.0, 115.0, 116.0, 118.0, 119.0, 123.0, 124.0, 127.0, 128.0, 132.0, 133.0, 136.0, 137.0, 138.0, 140.0, 141.0, 143.0, 146.0, 147.0, 148.0, 151.0, 152.0, 156.0, 157.0, 159.0, 162.0, 168.0, 172.0, 175.0, 183.0, 186.0, 189.0, 199.0, 200.0, 201.0, 204.0, 207.0, 208.0, 209.0, 210.0, 212.0, 219.0, 220.0, 223.0, 226.0, 228.0, 229.0, 230.0, 231.0, 237.0, 239.0, 244.0]\n"
          ]
        }
      ]
    },
    {
      "cell_type": "code",
      "source": [
        "Users_df.loc[(Users_df.Age < 8) | (Users_df.Age > 90), 'Age'] = np.nan \n",
        "Users_df.Age = Users_df.Age.fillna(Users_df.Age.mean())\n",
        "Users_df.Age = Users_df.Age.astype(np.int32)\n"
      ],
      "metadata": {
        "id": "4iF8wsEtexOZ"
      },
      "execution_count": 159,
      "outputs": []
    },
    {
      "cell_type": "markdown",
      "source": [
        "Here we have filled all the missing values with their respective mean and converted it into integer datatype from float.\n",
        "Also we have rendered only valid age from this column"
      ],
      "metadata": {
        "id": "hprF6EQofKhu"
      }
    },
    {
      "cell_type": "code",
      "source": [
        "Users_df.Age.unique()"
      ],
      "metadata": {
        "colab": {
          "base_uri": "https://localhost:8080/"
        },
        "id": "mq8iM5xUfl1c",
        "outputId": "024f5075-99c1-4e0a-ef67-305b8d0d30fc"
      },
      "execution_count": 160,
      "outputs": [
        {
          "output_type": "execute_result",
          "data": {
            "text/plain": [
              "array([34, 18, 17, 61, 26, 14, 25, 19, 46, 55, 32, 24, 20, 23, 51, 31, 21,\n",
              "       44, 30, 57, 43, 37, 41, 54, 42, 50, 39, 53, 47, 36, 28, 35, 13, 58,\n",
              "       49, 38, 45, 62, 63, 27, 33, 29, 66, 40, 15, 60, 79, 22, 16, 65, 59,\n",
              "       48, 72, 56, 67, 80, 52, 69, 71, 73, 78,  9, 64, 12, 74, 75, 76, 83,\n",
              "       68, 11, 77, 70,  8, 81, 10, 84, 82, 90, 85, 86, 87, 89, 88],\n",
              "      dtype=int32)"
            ]
          },
          "metadata": {},
          "execution_count": 160
        }
      ]
    },
    {
      "cell_type": "markdown",
      "source": [
        "**Checking Duplicates**"
      ],
      "metadata": {
        "id": "OFi6jcawf7jO"
      }
    },
    {
      "cell_type": "code",
      "source": [
        "Books_df.duplicated().sum()\n",
        "\n"
      ],
      "metadata": {
        "colab": {
          "base_uri": "https://localhost:8080/"
        },
        "id": "y3wZFHpWf_5X",
        "outputId": "eb1334aa-ec33-4723-a403-1a9fe3929796"
      },
      "execution_count": 161,
      "outputs": [
        {
          "output_type": "execute_result",
          "data": {
            "text/plain": [
              "0"
            ]
          },
          "metadata": {},
          "execution_count": 161
        }
      ]
    },
    {
      "cell_type": "code",
      "source": [
        "Ratings_df.duplicated().sum()\n",
        "\n"
      ],
      "metadata": {
        "colab": {
          "base_uri": "https://localhost:8080/"
        },
        "id": "3j7ImZeZhWyR",
        "outputId": "69e97d27-098f-4229-f8b9-522cb8605b19"
      },
      "execution_count": 162,
      "outputs": [
        {
          "output_type": "execute_result",
          "data": {
            "text/plain": [
              "0"
            ]
          },
          "metadata": {},
          "execution_count": 162
        }
      ]
    },
    {
      "cell_type": "code",
      "source": [
        "Users_df.duplicated().sum()"
      ],
      "metadata": {
        "colab": {
          "base_uri": "https://localhost:8080/"
        },
        "id": "uJjV-j6nhZOD",
        "outputId": "ea322d68-4c81-466e-e090-549730976df6"
      },
      "execution_count": 163,
      "outputs": [
        {
          "output_type": "execute_result",
          "data": {
            "text/plain": [
              "0"
            ]
          },
          "metadata": {},
          "execution_count": 163
        }
      ]
    },
    {
      "cell_type": "markdown",
      "source": [
        "We have no duplicates in our datasets."
      ],
      "metadata": {
        "id": "s834Wn-Jhb3N"
      }
    },
    {
      "cell_type": "code",
      "source": [
        "Books_df.columns"
      ],
      "metadata": {
        "colab": {
          "base_uri": "https://localhost:8080/"
        },
        "id": "3SgPWz54l6QK",
        "outputId": "e0d75e21-36cb-4560-f147-ec7e2a2d497a"
      },
      "execution_count": 164,
      "outputs": [
        {
          "output_type": "execute_result",
          "data": {
            "text/plain": [
              "Index(['ISBN', 'Book-Title', 'Book-Author', 'Year-Of-Publication', 'Publisher',\n",
              "       'Image-URL-S', 'Image-URL-M', 'Image-URL-L'],\n",
              "      dtype='object')"
            ]
          },
          "metadata": {},
          "execution_count": 164
        }
      ]
    },
    {
      "cell_type": "code",
      "source": [
        "#Eliminating extra columns which we do not need\n",
        "Books_df=Books_df[['ISBN','Book-Title','Book-Author','Year-Of-Publication','Publisher']]"
      ],
      "metadata": {
        "id": "DnzloTDcltc4"
      },
      "execution_count": 165,
      "outputs": []
    },
    {
      "cell_type": "code",
      "source": [
        "#Renaming columns for easy access to them\n",
        "Books_df.rename(columns={'Book-Title':'Title','Book-Author':'Author','Year-Of-Publication':'Year','Publisher':'Publisher'},inplace=True)"
      ],
      "metadata": {
        "id": "TE0lpuOXmS4x"
      },
      "execution_count": 166,
      "outputs": []
    },
    {
      "cell_type": "code",
      "source": [
        "Users_df.rename(columns={'User-ID':'user_id','Location':'location'},inplace=True)\n"
      ],
      "metadata": {
        "id": "_i7bZVFlFdqF"
      },
      "execution_count": 170,
      "outputs": []
    },
    {
      "cell_type": "code",
      "source": [
        "Users_df.head(2)"
      ],
      "metadata": {
        "colab": {
          "base_uri": "https://localhost:8080/",
          "height": 112
        },
        "id": "yC5-8AUTIboL",
        "outputId": "6ddfc747-961c-4a1e-c1e3-45f1effc5a10"
      },
      "execution_count": 171,
      "outputs": [
        {
          "output_type": "execute_result",
          "data": {
            "text/plain": [
              "   user_id                   location  Age\n",
              "0        1         nyc, new york, usa   34\n",
              "1        2  stockton, california, usa   18"
            ],
            "text/html": [
              "\n",
              "  <div id=\"df-f21fb25b-1c70-4854-a61c-657171aa02f1\">\n",
              "    <div class=\"colab-df-container\">\n",
              "      <div>\n",
              "<style scoped>\n",
              "    .dataframe tbody tr th:only-of-type {\n",
              "        vertical-align: middle;\n",
              "    }\n",
              "\n",
              "    .dataframe tbody tr th {\n",
              "        vertical-align: top;\n",
              "    }\n",
              "\n",
              "    .dataframe thead th {\n",
              "        text-align: right;\n",
              "    }\n",
              "</style>\n",
              "<table border=\"1\" class=\"dataframe\">\n",
              "  <thead>\n",
              "    <tr style=\"text-align: right;\">\n",
              "      <th></th>\n",
              "      <th>user_id</th>\n",
              "      <th>location</th>\n",
              "      <th>Age</th>\n",
              "    </tr>\n",
              "  </thead>\n",
              "  <tbody>\n",
              "    <tr>\n",
              "      <th>0</th>\n",
              "      <td>1</td>\n",
              "      <td>nyc, new york, usa</td>\n",
              "      <td>34</td>\n",
              "    </tr>\n",
              "    <tr>\n",
              "      <th>1</th>\n",
              "      <td>2</td>\n",
              "      <td>stockton, california, usa</td>\n",
              "      <td>18</td>\n",
              "    </tr>\n",
              "  </tbody>\n",
              "</table>\n",
              "</div>\n",
              "      <button class=\"colab-df-convert\" onclick=\"convertToInteractive('df-f21fb25b-1c70-4854-a61c-657171aa02f1')\"\n",
              "              title=\"Convert this dataframe to an interactive table.\"\n",
              "              style=\"display:none;\">\n",
              "        \n",
              "  <svg xmlns=\"http://www.w3.org/2000/svg\" height=\"24px\"viewBox=\"0 0 24 24\"\n",
              "       width=\"24px\">\n",
              "    <path d=\"M0 0h24v24H0V0z\" fill=\"none\"/>\n",
              "    <path d=\"M18.56 5.44l.94 2.06.94-2.06 2.06-.94-2.06-.94-.94-2.06-.94 2.06-2.06.94zm-11 1L8.5 8.5l.94-2.06 2.06-.94-2.06-.94L8.5 2.5l-.94 2.06-2.06.94zm10 10l.94 2.06.94-2.06 2.06-.94-2.06-.94-.94-2.06-.94 2.06-2.06.94z\"/><path d=\"M17.41 7.96l-1.37-1.37c-.4-.4-.92-.59-1.43-.59-.52 0-1.04.2-1.43.59L10.3 9.45l-7.72 7.72c-.78.78-.78 2.05 0 2.83L4 21.41c.39.39.9.59 1.41.59.51 0 1.02-.2 1.41-.59l7.78-7.78 2.81-2.81c.8-.78.8-2.07 0-2.86zM5.41 20L4 18.59l7.72-7.72 1.47 1.35L5.41 20z\"/>\n",
              "  </svg>\n",
              "      </button>\n",
              "      \n",
              "  <style>\n",
              "    .colab-df-container {\n",
              "      display:flex;\n",
              "      flex-wrap:wrap;\n",
              "      gap: 12px;\n",
              "    }\n",
              "\n",
              "    .colab-df-convert {\n",
              "      background-color: #E8F0FE;\n",
              "      border: none;\n",
              "      border-radius: 50%;\n",
              "      cursor: pointer;\n",
              "      display: none;\n",
              "      fill: #1967D2;\n",
              "      height: 32px;\n",
              "      padding: 0 0 0 0;\n",
              "      width: 32px;\n",
              "    }\n",
              "\n",
              "    .colab-df-convert:hover {\n",
              "      background-color: #E2EBFA;\n",
              "      box-shadow: 0px 1px 2px rgba(60, 64, 67, 0.3), 0px 1px 3px 1px rgba(60, 64, 67, 0.15);\n",
              "      fill: #174EA6;\n",
              "    }\n",
              "\n",
              "    [theme=dark] .colab-df-convert {\n",
              "      background-color: #3B4455;\n",
              "      fill: #D2E3FC;\n",
              "    }\n",
              "\n",
              "    [theme=dark] .colab-df-convert:hover {\n",
              "      background-color: #434B5C;\n",
              "      box-shadow: 0px 1px 3px 1px rgba(0, 0, 0, 0.15);\n",
              "      filter: drop-shadow(0px 1px 2px rgba(0, 0, 0, 0.3));\n",
              "      fill: #FFFFFF;\n",
              "    }\n",
              "  </style>\n",
              "\n",
              "      <script>\n",
              "        const buttonEl =\n",
              "          document.querySelector('#df-f21fb25b-1c70-4854-a61c-657171aa02f1 button.colab-df-convert');\n",
              "        buttonEl.style.display =\n",
              "          google.colab.kernel.accessAllowed ? 'block' : 'none';\n",
              "\n",
              "        async function convertToInteractive(key) {\n",
              "          const element = document.querySelector('#df-f21fb25b-1c70-4854-a61c-657171aa02f1');\n",
              "          const dataTable =\n",
              "            await google.colab.kernel.invokeFunction('convertToInteractive',\n",
              "                                                     [key], {});\n",
              "          if (!dataTable) return;\n",
              "\n",
              "          const docLinkHtml = 'Like what you see? Visit the ' +\n",
              "            '<a target=\"_blank\" href=https://colab.research.google.com/notebooks/data_table.ipynb>data table notebook</a>'\n",
              "            + ' to learn more about interactive tables.';\n",
              "          element.innerHTML = '';\n",
              "          dataTable['output_type'] = 'display_data';\n",
              "          await google.colab.output.renderOutput(dataTable, element);\n",
              "          const docLink = document.createElement('div');\n",
              "          docLink.innerHTML = docLinkHtml;\n",
              "          element.appendChild(docLink);\n",
              "        }\n",
              "      </script>\n",
              "    </div>\n",
              "  </div>\n",
              "  "
            ]
          },
          "metadata": {},
          "execution_count": 171
        }
      ]
    },
    {
      "cell_type": "code",
      "source": [
        "Ratings_df.rename(columns={'User-ID':'user_id','Book-Rating':'rating'},inplace=True)"
      ],
      "metadata": {
        "id": "fdaJIeFmGFeU"
      },
      "execution_count": 174,
      "outputs": []
    },
    {
      "cell_type": "code",
      "source": [
        "Ratings_df.head(2)"
      ],
      "metadata": {
        "colab": {
          "base_uri": "https://localhost:8080/",
          "height": 112
        },
        "id": "4HI6eYF6G9sy",
        "outputId": "9e2d0a89-260b-413d-9200-dc3eb967542f"
      },
      "execution_count": 175,
      "outputs": [
        {
          "output_type": "execute_result",
          "data": {
            "text/plain": [
              "   user_id        ISBN  rating\n",
              "0   276725  034545104X       0\n",
              "1   276726  0155061224       5"
            ],
            "text/html": [
              "\n",
              "  <div id=\"df-abc2e30b-e870-45a5-a13d-73eacecece18\">\n",
              "    <div class=\"colab-df-container\">\n",
              "      <div>\n",
              "<style scoped>\n",
              "    .dataframe tbody tr th:only-of-type {\n",
              "        vertical-align: middle;\n",
              "    }\n",
              "\n",
              "    .dataframe tbody tr th {\n",
              "        vertical-align: top;\n",
              "    }\n",
              "\n",
              "    .dataframe thead th {\n",
              "        text-align: right;\n",
              "    }\n",
              "</style>\n",
              "<table border=\"1\" class=\"dataframe\">\n",
              "  <thead>\n",
              "    <tr style=\"text-align: right;\">\n",
              "      <th></th>\n",
              "      <th>user_id</th>\n",
              "      <th>ISBN</th>\n",
              "      <th>rating</th>\n",
              "    </tr>\n",
              "  </thead>\n",
              "  <tbody>\n",
              "    <tr>\n",
              "      <th>0</th>\n",
              "      <td>276725</td>\n",
              "      <td>034545104X</td>\n",
              "      <td>0</td>\n",
              "    </tr>\n",
              "    <tr>\n",
              "      <th>1</th>\n",
              "      <td>276726</td>\n",
              "      <td>0155061224</td>\n",
              "      <td>5</td>\n",
              "    </tr>\n",
              "  </tbody>\n",
              "</table>\n",
              "</div>\n",
              "      <button class=\"colab-df-convert\" onclick=\"convertToInteractive('df-abc2e30b-e870-45a5-a13d-73eacecece18')\"\n",
              "              title=\"Convert this dataframe to an interactive table.\"\n",
              "              style=\"display:none;\">\n",
              "        \n",
              "  <svg xmlns=\"http://www.w3.org/2000/svg\" height=\"24px\"viewBox=\"0 0 24 24\"\n",
              "       width=\"24px\">\n",
              "    <path d=\"M0 0h24v24H0V0z\" fill=\"none\"/>\n",
              "    <path d=\"M18.56 5.44l.94 2.06.94-2.06 2.06-.94-2.06-.94-.94-2.06-.94 2.06-2.06.94zm-11 1L8.5 8.5l.94-2.06 2.06-.94-2.06-.94L8.5 2.5l-.94 2.06-2.06.94zm10 10l.94 2.06.94-2.06 2.06-.94-2.06-.94-.94-2.06-.94 2.06-2.06.94z\"/><path d=\"M17.41 7.96l-1.37-1.37c-.4-.4-.92-.59-1.43-.59-.52 0-1.04.2-1.43.59L10.3 9.45l-7.72 7.72c-.78.78-.78 2.05 0 2.83L4 21.41c.39.39.9.59 1.41.59.51 0 1.02-.2 1.41-.59l7.78-7.78 2.81-2.81c.8-.78.8-2.07 0-2.86zM5.41 20L4 18.59l7.72-7.72 1.47 1.35L5.41 20z\"/>\n",
              "  </svg>\n",
              "      </button>\n",
              "      \n",
              "  <style>\n",
              "    .colab-df-container {\n",
              "      display:flex;\n",
              "      flex-wrap:wrap;\n",
              "      gap: 12px;\n",
              "    }\n",
              "\n",
              "    .colab-df-convert {\n",
              "      background-color: #E8F0FE;\n",
              "      border: none;\n",
              "      border-radius: 50%;\n",
              "      cursor: pointer;\n",
              "      display: none;\n",
              "      fill: #1967D2;\n",
              "      height: 32px;\n",
              "      padding: 0 0 0 0;\n",
              "      width: 32px;\n",
              "    }\n",
              "\n",
              "    .colab-df-convert:hover {\n",
              "      background-color: #E2EBFA;\n",
              "      box-shadow: 0px 1px 2px rgba(60, 64, 67, 0.3), 0px 1px 3px 1px rgba(60, 64, 67, 0.15);\n",
              "      fill: #174EA6;\n",
              "    }\n",
              "\n",
              "    [theme=dark] .colab-df-convert {\n",
              "      background-color: #3B4455;\n",
              "      fill: #D2E3FC;\n",
              "    }\n",
              "\n",
              "    [theme=dark] .colab-df-convert:hover {\n",
              "      background-color: #434B5C;\n",
              "      box-shadow: 0px 1px 3px 1px rgba(0, 0, 0, 0.15);\n",
              "      filter: drop-shadow(0px 1px 2px rgba(0, 0, 0, 0.3));\n",
              "      fill: #FFFFFF;\n",
              "    }\n",
              "  </style>\n",
              "\n",
              "      <script>\n",
              "        const buttonEl =\n",
              "          document.querySelector('#df-abc2e30b-e870-45a5-a13d-73eacecece18 button.colab-df-convert');\n",
              "        buttonEl.style.display =\n",
              "          google.colab.kernel.accessAllowed ? 'block' : 'none';\n",
              "\n",
              "        async function convertToInteractive(key) {\n",
              "          const element = document.querySelector('#df-abc2e30b-e870-45a5-a13d-73eacecece18');\n",
              "          const dataTable =\n",
              "            await google.colab.kernel.invokeFunction('convertToInteractive',\n",
              "                                                     [key], {});\n",
              "          if (!dataTable) return;\n",
              "\n",
              "          const docLinkHtml = 'Like what you see? Visit the ' +\n",
              "            '<a target=\"_blank\" href=https://colab.research.google.com/notebooks/data_table.ipynb>data table notebook</a>'\n",
              "            + ' to learn more about interactive tables.';\n",
              "          element.innerHTML = '';\n",
              "          dataTable['output_type'] = 'display_data';\n",
              "          await google.colab.output.renderOutput(dataTable, element);\n",
              "          const docLink = document.createElement('div');\n",
              "          docLink.innerHTML = docLinkHtml;\n",
              "          element.appendChild(docLink);\n",
              "        }\n",
              "      </script>\n",
              "    </div>\n",
              "  </div>\n",
              "  "
            ]
          },
          "metadata": {},
          "execution_count": 175
        }
      ]
    },
    {
      "cell_type": "code",
      "source": [
        "#To find unique users who have rated books\n",
        "Ratings_df['user_id'].value_counts().shape"
      ],
      "metadata": {
        "colab": {
          "base_uri": "https://localhost:8080/"
        },
        "id": "9vyfkenfnAxW",
        "outputId": "8ef91812-c05b-47be-874d-9f5ed7c6fe5e"
      },
      "execution_count": 176,
      "outputs": [
        {
          "output_type": "execute_result",
          "data": {
            "text/plain": [
              "(105283,)"
            ]
          },
          "metadata": {},
          "execution_count": 176
        }
      ]
    },
    {
      "cell_type": "markdown",
      "source": [
        "To identify unique users is necessary because every user who reads the books don't rate the books or there can be chances who don't even finish reading the books."
      ],
      "metadata": {
        "id": "iBr6hbeH6_M9"
      }
    },
    {
      "cell_type": "code",
      "source": [
        "#Taking only those users who have rated more than 200 books\n",
        "x=Ratings_df['user_id'].value_counts()>200"
      ],
      "metadata": {
        "id": "m-VMmkasv8nb"
      },
      "execution_count": 177,
      "outputs": []
    },
    {
      "cell_type": "code",
      "source": [
        "y=x[x].index\n",
        "y"
      ],
      "metadata": {
        "colab": {
          "base_uri": "https://localhost:8080/"
        },
        "id": "aLUIGILy73PM",
        "outputId": "9da56254-a1b1-4dd9-d089-a74955a1df45"
      },
      "execution_count": 178,
      "outputs": [
        {
          "output_type": "execute_result",
          "data": {
            "text/plain": [
              "Int64Index([ 11676, 198711, 153662,  98391,  35859, 212898, 278418,  76352,\n",
              "            110973, 235105,\n",
              "            ...\n",
              "            260183,  73681,  44296, 155916,   9856, 274808,  28634,  59727,\n",
              "            268622, 188951],\n",
              "           dtype='int64', length=899)"
            ]
          },
          "metadata": {},
          "execution_count": 178
        }
      ]
    },
    {
      "cell_type": "code",
      "source": [
        "Ratings_df=Ratings_df[Ratings_df['user_id'].isin(y)]"
      ],
      "metadata": {
        "id": "7aHZ4Z6a8eyX"
      },
      "execution_count": 179,
      "outputs": []
    },
    {
      "cell_type": "code",
      "source": [
        "Ratings_df.shape"
      ],
      "metadata": {
        "colab": {
          "base_uri": "https://localhost:8080/"
        },
        "id": "li3ZiVi980bP",
        "outputId": "a86a8d14-5ba3-48b1-eb4a-b6743b0fb6e5"
      },
      "execution_count": 180,
      "outputs": [
        {
          "output_type": "execute_result",
          "data": {
            "text/plain": [
              "(526356, 3)"
            ]
          },
          "metadata": {},
          "execution_count": 180
        }
      ]
    },
    {
      "cell_type": "code",
      "source": [
        "#Merging ratings and books\n",
        "Ratings_Books_df=Ratings_df.merge(Books_df,on='ISBN')"
      ],
      "metadata": {
        "id": "eBtykmeP-RE1"
      },
      "execution_count": 181,
      "outputs": []
    },
    {
      "cell_type": "code",
      "source": [
        "Ratings_Books_df"
      ],
      "metadata": {
        "colab": {
          "base_uri": "https://localhost:8080/",
          "height": 423
        },
        "id": "e5d-3_2uANHP",
        "outputId": "2577009c-18f1-43be-866b-276231197f03"
      },
      "execution_count": 182,
      "outputs": [
        {
          "output_type": "execute_result",
          "data": {
            "text/plain": [
              "        user_id        ISBN  rating  \\\n",
              "0        277427  002542730X      10   \n",
              "1          3363  002542730X       0   \n",
              "2         11676  002542730X       6   \n",
              "3         12538  002542730X      10   \n",
              "4         13552  002542730X       0   \n",
              "...         ...         ...     ...   \n",
              "487666   275970  1892145022       0   \n",
              "487667   275970  1931868123       0   \n",
              "487668   275970  3411086211      10   \n",
              "487669   275970  3829021860       0   \n",
              "487670   275970  4770019572       0   \n",
              "\n",
              "                                                    Title  \\\n",
              "0       Politically Correct Bedtime Stories: Modern Ta...   \n",
              "1       Politically Correct Bedtime Stories: Modern Ta...   \n",
              "2       Politically Correct Bedtime Stories: Modern Ta...   \n",
              "3       Politically Correct Bedtime Stories: Modern Ta...   \n",
              "4       Politically Correct Bedtime Stories: Modern Ta...   \n",
              "...                                                   ...   \n",
              "487666                                   Here Is New York   \n",
              "487667  There's a Porcupine in My Outhouse: Misadventu...   \n",
              "487668                                         Die Biene.   \n",
              "487669                                     The Penis Book   \n",
              "487670                                            Musashi   \n",
              "\n",
              "                               Author  Year  \\\n",
              "0                   James Finn Garner  1994   \n",
              "1                   James Finn Garner  1994   \n",
              "2                   James Finn Garner  1994   \n",
              "3                   James Finn Garner  1994   \n",
              "4                   James Finn Garner  1994   \n",
              "...                               ...   ...   \n",
              "487666                    E. B. White  1999   \n",
              "487667                   Mike Tougias  2002   \n",
              "487668  Sybil GrÃ?Â¤fin SchÃ?Â¶nfeldt  1993   \n",
              "487669                   Joseph Cohen  1999   \n",
              "487670                 Eiji Yoshikawa  1995   \n",
              "\n",
              "                                   Publisher  \n",
              "0                  John Wiley &amp; Sons Inc  \n",
              "1                  John Wiley &amp; Sons Inc  \n",
              "2                  John Wiley &amp; Sons Inc  \n",
              "3                  John Wiley &amp; Sons Inc  \n",
              "4                  John Wiley &amp; Sons Inc  \n",
              "...                                      ...  \n",
              "487666                       Little Bookroom  \n",
              "487667                    Capital Books (VA)  \n",
              "487668  Bibliographisches Institut, Mannheim  \n",
              "487669                              Konemann  \n",
              "487670          Kodansha International (JPN)  \n",
              "\n",
              "[487671 rows x 7 columns]"
            ],
            "text/html": [
              "\n",
              "  <div id=\"df-e92e46c5-e9ef-4c93-ba63-de3a79db06e2\">\n",
              "    <div class=\"colab-df-container\">\n",
              "      <div>\n",
              "<style scoped>\n",
              "    .dataframe tbody tr th:only-of-type {\n",
              "        vertical-align: middle;\n",
              "    }\n",
              "\n",
              "    .dataframe tbody tr th {\n",
              "        vertical-align: top;\n",
              "    }\n",
              "\n",
              "    .dataframe thead th {\n",
              "        text-align: right;\n",
              "    }\n",
              "</style>\n",
              "<table border=\"1\" class=\"dataframe\">\n",
              "  <thead>\n",
              "    <tr style=\"text-align: right;\">\n",
              "      <th></th>\n",
              "      <th>user_id</th>\n",
              "      <th>ISBN</th>\n",
              "      <th>rating</th>\n",
              "      <th>Title</th>\n",
              "      <th>Author</th>\n",
              "      <th>Year</th>\n",
              "      <th>Publisher</th>\n",
              "    </tr>\n",
              "  </thead>\n",
              "  <tbody>\n",
              "    <tr>\n",
              "      <th>0</th>\n",
              "      <td>277427</td>\n",
              "      <td>002542730X</td>\n",
              "      <td>10</td>\n",
              "      <td>Politically Correct Bedtime Stories: Modern Ta...</td>\n",
              "      <td>James Finn Garner</td>\n",
              "      <td>1994</td>\n",
              "      <td>John Wiley &amp;amp; Sons Inc</td>\n",
              "    </tr>\n",
              "    <tr>\n",
              "      <th>1</th>\n",
              "      <td>3363</td>\n",
              "      <td>002542730X</td>\n",
              "      <td>0</td>\n",
              "      <td>Politically Correct Bedtime Stories: Modern Ta...</td>\n",
              "      <td>James Finn Garner</td>\n",
              "      <td>1994</td>\n",
              "      <td>John Wiley &amp;amp; Sons Inc</td>\n",
              "    </tr>\n",
              "    <tr>\n",
              "      <th>2</th>\n",
              "      <td>11676</td>\n",
              "      <td>002542730X</td>\n",
              "      <td>6</td>\n",
              "      <td>Politically Correct Bedtime Stories: Modern Ta...</td>\n",
              "      <td>James Finn Garner</td>\n",
              "      <td>1994</td>\n",
              "      <td>John Wiley &amp;amp; Sons Inc</td>\n",
              "    </tr>\n",
              "    <tr>\n",
              "      <th>3</th>\n",
              "      <td>12538</td>\n",
              "      <td>002542730X</td>\n",
              "      <td>10</td>\n",
              "      <td>Politically Correct Bedtime Stories: Modern Ta...</td>\n",
              "      <td>James Finn Garner</td>\n",
              "      <td>1994</td>\n",
              "      <td>John Wiley &amp;amp; Sons Inc</td>\n",
              "    </tr>\n",
              "    <tr>\n",
              "      <th>4</th>\n",
              "      <td>13552</td>\n",
              "      <td>002542730X</td>\n",
              "      <td>0</td>\n",
              "      <td>Politically Correct Bedtime Stories: Modern Ta...</td>\n",
              "      <td>James Finn Garner</td>\n",
              "      <td>1994</td>\n",
              "      <td>John Wiley &amp;amp; Sons Inc</td>\n",
              "    </tr>\n",
              "    <tr>\n",
              "      <th>...</th>\n",
              "      <td>...</td>\n",
              "      <td>...</td>\n",
              "      <td>...</td>\n",
              "      <td>...</td>\n",
              "      <td>...</td>\n",
              "      <td>...</td>\n",
              "      <td>...</td>\n",
              "    </tr>\n",
              "    <tr>\n",
              "      <th>487666</th>\n",
              "      <td>275970</td>\n",
              "      <td>1892145022</td>\n",
              "      <td>0</td>\n",
              "      <td>Here Is New York</td>\n",
              "      <td>E. B. White</td>\n",
              "      <td>1999</td>\n",
              "      <td>Little Bookroom</td>\n",
              "    </tr>\n",
              "    <tr>\n",
              "      <th>487667</th>\n",
              "      <td>275970</td>\n",
              "      <td>1931868123</td>\n",
              "      <td>0</td>\n",
              "      <td>There's a Porcupine in My Outhouse: Misadventu...</td>\n",
              "      <td>Mike Tougias</td>\n",
              "      <td>2002</td>\n",
              "      <td>Capital Books (VA)</td>\n",
              "    </tr>\n",
              "    <tr>\n",
              "      <th>487668</th>\n",
              "      <td>275970</td>\n",
              "      <td>3411086211</td>\n",
              "      <td>10</td>\n",
              "      <td>Die Biene.</td>\n",
              "      <td>Sybil GrÃ?Â¤fin SchÃ?Â¶nfeldt</td>\n",
              "      <td>1993</td>\n",
              "      <td>Bibliographisches Institut, Mannheim</td>\n",
              "    </tr>\n",
              "    <tr>\n",
              "      <th>487669</th>\n",
              "      <td>275970</td>\n",
              "      <td>3829021860</td>\n",
              "      <td>0</td>\n",
              "      <td>The Penis Book</td>\n",
              "      <td>Joseph Cohen</td>\n",
              "      <td>1999</td>\n",
              "      <td>Konemann</td>\n",
              "    </tr>\n",
              "    <tr>\n",
              "      <th>487670</th>\n",
              "      <td>275970</td>\n",
              "      <td>4770019572</td>\n",
              "      <td>0</td>\n",
              "      <td>Musashi</td>\n",
              "      <td>Eiji Yoshikawa</td>\n",
              "      <td>1995</td>\n",
              "      <td>Kodansha International (JPN)</td>\n",
              "    </tr>\n",
              "  </tbody>\n",
              "</table>\n",
              "<p>487671 rows × 7 columns</p>\n",
              "</div>\n",
              "      <button class=\"colab-df-convert\" onclick=\"convertToInteractive('df-e92e46c5-e9ef-4c93-ba63-de3a79db06e2')\"\n",
              "              title=\"Convert this dataframe to an interactive table.\"\n",
              "              style=\"display:none;\">\n",
              "        \n",
              "  <svg xmlns=\"http://www.w3.org/2000/svg\" height=\"24px\"viewBox=\"0 0 24 24\"\n",
              "       width=\"24px\">\n",
              "    <path d=\"M0 0h24v24H0V0z\" fill=\"none\"/>\n",
              "    <path d=\"M18.56 5.44l.94 2.06.94-2.06 2.06-.94-2.06-.94-.94-2.06-.94 2.06-2.06.94zm-11 1L8.5 8.5l.94-2.06 2.06-.94-2.06-.94L8.5 2.5l-.94 2.06-2.06.94zm10 10l.94 2.06.94-2.06 2.06-.94-2.06-.94-.94-2.06-.94 2.06-2.06.94z\"/><path d=\"M17.41 7.96l-1.37-1.37c-.4-.4-.92-.59-1.43-.59-.52 0-1.04.2-1.43.59L10.3 9.45l-7.72 7.72c-.78.78-.78 2.05 0 2.83L4 21.41c.39.39.9.59 1.41.59.51 0 1.02-.2 1.41-.59l7.78-7.78 2.81-2.81c.8-.78.8-2.07 0-2.86zM5.41 20L4 18.59l7.72-7.72 1.47 1.35L5.41 20z\"/>\n",
              "  </svg>\n",
              "      </button>\n",
              "      \n",
              "  <style>\n",
              "    .colab-df-container {\n",
              "      display:flex;\n",
              "      flex-wrap:wrap;\n",
              "      gap: 12px;\n",
              "    }\n",
              "\n",
              "    .colab-df-convert {\n",
              "      background-color: #E8F0FE;\n",
              "      border: none;\n",
              "      border-radius: 50%;\n",
              "      cursor: pointer;\n",
              "      display: none;\n",
              "      fill: #1967D2;\n",
              "      height: 32px;\n",
              "      padding: 0 0 0 0;\n",
              "      width: 32px;\n",
              "    }\n",
              "\n",
              "    .colab-df-convert:hover {\n",
              "      background-color: #E2EBFA;\n",
              "      box-shadow: 0px 1px 2px rgba(60, 64, 67, 0.3), 0px 1px 3px 1px rgba(60, 64, 67, 0.15);\n",
              "      fill: #174EA6;\n",
              "    }\n",
              "\n",
              "    [theme=dark] .colab-df-convert {\n",
              "      background-color: #3B4455;\n",
              "      fill: #D2E3FC;\n",
              "    }\n",
              "\n",
              "    [theme=dark] .colab-df-convert:hover {\n",
              "      background-color: #434B5C;\n",
              "      box-shadow: 0px 1px 3px 1px rgba(0, 0, 0, 0.15);\n",
              "      filter: drop-shadow(0px 1px 2px rgba(0, 0, 0, 0.3));\n",
              "      fill: #FFFFFF;\n",
              "    }\n",
              "  </style>\n",
              "\n",
              "      <script>\n",
              "        const buttonEl =\n",
              "          document.querySelector('#df-e92e46c5-e9ef-4c93-ba63-de3a79db06e2 button.colab-df-convert');\n",
              "        buttonEl.style.display =\n",
              "          google.colab.kernel.accessAllowed ? 'block' : 'none';\n",
              "\n",
              "        async function convertToInteractive(key) {\n",
              "          const element = document.querySelector('#df-e92e46c5-e9ef-4c93-ba63-de3a79db06e2');\n",
              "          const dataTable =\n",
              "            await google.colab.kernel.invokeFunction('convertToInteractive',\n",
              "                                                     [key], {});\n",
              "          if (!dataTable) return;\n",
              "\n",
              "          const docLinkHtml = 'Like what you see? Visit the ' +\n",
              "            '<a target=\"_blank\" href=https://colab.research.google.com/notebooks/data_table.ipynb>data table notebook</a>'\n",
              "            + ' to learn more about interactive tables.';\n",
              "          element.innerHTML = '';\n",
              "          dataTable['output_type'] = 'display_data';\n",
              "          await google.colab.output.renderOutput(dataTable, element);\n",
              "          const docLink = document.createElement('div');\n",
              "          docLink.innerHTML = docLinkHtml;\n",
              "          element.appendChild(docLink);\n",
              "        }\n",
              "      </script>\n",
              "    </div>\n",
              "  </div>\n",
              "  "
            ]
          },
          "metadata": {},
          "execution_count": 182
        }
      ]
    },
    {
      "cell_type": "code",
      "source": [
        "Ratings_Books_df.shape"
      ],
      "metadata": {
        "colab": {
          "base_uri": "https://localhost:8080/"
        },
        "id": "a21qkqpGAY-t",
        "outputId": "8b24c32b-5bfd-4ab7-9074-d7faa5bfd2fb"
      },
      "execution_count": 183,
      "outputs": [
        {
          "output_type": "execute_result",
          "data": {
            "text/plain": [
              "(487671, 7)"
            ]
          },
          "metadata": {},
          "execution_count": 183
        }
      ]
    },
    {
      "cell_type": "code",
      "source": [
        "Number_Rating=Ratings_Books_df.groupby('Title')['rating'].count().reset_index()"
      ],
      "metadata": {
        "id": "k5454wVSBcEb"
      },
      "execution_count": 184,
      "outputs": []
    },
    {
      "cell_type": "code",
      "source": [
        "Number_Rating.rename(columns={'rating':'No_of_Ratings'},inplace=True)"
      ],
      "metadata": {
        "id": "QMaW9oz8C55v"
      },
      "execution_count": 185,
      "outputs": []
    },
    {
      "cell_type": "code",
      "source": [
        "Number_Rating"
      ],
      "metadata": {
        "colab": {
          "base_uri": "https://localhost:8080/",
          "height": 423
        },
        "id": "YZEiuXQGDzTS",
        "outputId": "d8c276d6-fa1d-4f18-b83d-946dfd84dbd7"
      },
      "execution_count": 186,
      "outputs": [
        {
          "output_type": "execute_result",
          "data": {
            "text/plain": [
              "                                                    Title  No_of_Ratings\n",
              "0        A Light in the Storm: The Civil War Diary of ...              2\n",
              "1                                   Always Have Popsicles              1\n",
              "2                    Apple Magic (The Collector's series)              1\n",
              "3        Beyond IBM: Leadership Marketing and Finance ...              1\n",
              "4        Clifford Visita El Hospital (Clifford El Gran...              1\n",
              "...                                                   ...            ...\n",
              "160264  Ã?Â?ber die Pflicht zum Ungehorsam gegen den S...              3\n",
              "160265                                      Ã?Â?lpiraten.              1\n",
              "160266                     Ã?Â?rger mit Produkt X. Roman.              1\n",
              "160267                              Ã?Â?stlich der Berge.              1\n",
              "160268                                  Ã?Â?thique en toc              1\n",
              "\n",
              "[160269 rows x 2 columns]"
            ],
            "text/html": [
              "\n",
              "  <div id=\"df-889ec8f8-1113-429f-adc6-7741211ec736\">\n",
              "    <div class=\"colab-df-container\">\n",
              "      <div>\n",
              "<style scoped>\n",
              "    .dataframe tbody tr th:only-of-type {\n",
              "        vertical-align: middle;\n",
              "    }\n",
              "\n",
              "    .dataframe tbody tr th {\n",
              "        vertical-align: top;\n",
              "    }\n",
              "\n",
              "    .dataframe thead th {\n",
              "        text-align: right;\n",
              "    }\n",
              "</style>\n",
              "<table border=\"1\" class=\"dataframe\">\n",
              "  <thead>\n",
              "    <tr style=\"text-align: right;\">\n",
              "      <th></th>\n",
              "      <th>Title</th>\n",
              "      <th>No_of_Ratings</th>\n",
              "    </tr>\n",
              "  </thead>\n",
              "  <tbody>\n",
              "    <tr>\n",
              "      <th>0</th>\n",
              "      <td>A Light in the Storm: The Civil War Diary of ...</td>\n",
              "      <td>2</td>\n",
              "    </tr>\n",
              "    <tr>\n",
              "      <th>1</th>\n",
              "      <td>Always Have Popsicles</td>\n",
              "      <td>1</td>\n",
              "    </tr>\n",
              "    <tr>\n",
              "      <th>2</th>\n",
              "      <td>Apple Magic (The Collector's series)</td>\n",
              "      <td>1</td>\n",
              "    </tr>\n",
              "    <tr>\n",
              "      <th>3</th>\n",
              "      <td>Beyond IBM: Leadership Marketing and Finance ...</td>\n",
              "      <td>1</td>\n",
              "    </tr>\n",
              "    <tr>\n",
              "      <th>4</th>\n",
              "      <td>Clifford Visita El Hospital (Clifford El Gran...</td>\n",
              "      <td>1</td>\n",
              "    </tr>\n",
              "    <tr>\n",
              "      <th>...</th>\n",
              "      <td>...</td>\n",
              "      <td>...</td>\n",
              "    </tr>\n",
              "    <tr>\n",
              "      <th>160264</th>\n",
              "      <td>Ã?Â?ber die Pflicht zum Ungehorsam gegen den S...</td>\n",
              "      <td>3</td>\n",
              "    </tr>\n",
              "    <tr>\n",
              "      <th>160265</th>\n",
              "      <td>Ã?Â?lpiraten.</td>\n",
              "      <td>1</td>\n",
              "    </tr>\n",
              "    <tr>\n",
              "      <th>160266</th>\n",
              "      <td>Ã?Â?rger mit Produkt X. Roman.</td>\n",
              "      <td>1</td>\n",
              "    </tr>\n",
              "    <tr>\n",
              "      <th>160267</th>\n",
              "      <td>Ã?Â?stlich der Berge.</td>\n",
              "      <td>1</td>\n",
              "    </tr>\n",
              "    <tr>\n",
              "      <th>160268</th>\n",
              "      <td>Ã?Â?thique en toc</td>\n",
              "      <td>1</td>\n",
              "    </tr>\n",
              "  </tbody>\n",
              "</table>\n",
              "<p>160269 rows × 2 columns</p>\n",
              "</div>\n",
              "      <button class=\"colab-df-convert\" onclick=\"convertToInteractive('df-889ec8f8-1113-429f-adc6-7741211ec736')\"\n",
              "              title=\"Convert this dataframe to an interactive table.\"\n",
              "              style=\"display:none;\">\n",
              "        \n",
              "  <svg xmlns=\"http://www.w3.org/2000/svg\" height=\"24px\"viewBox=\"0 0 24 24\"\n",
              "       width=\"24px\">\n",
              "    <path d=\"M0 0h24v24H0V0z\" fill=\"none\"/>\n",
              "    <path d=\"M18.56 5.44l.94 2.06.94-2.06 2.06-.94-2.06-.94-.94-2.06-.94 2.06-2.06.94zm-11 1L8.5 8.5l.94-2.06 2.06-.94-2.06-.94L8.5 2.5l-.94 2.06-2.06.94zm10 10l.94 2.06.94-2.06 2.06-.94-2.06-.94-.94-2.06-.94 2.06-2.06.94z\"/><path d=\"M17.41 7.96l-1.37-1.37c-.4-.4-.92-.59-1.43-.59-.52 0-1.04.2-1.43.59L10.3 9.45l-7.72 7.72c-.78.78-.78 2.05 0 2.83L4 21.41c.39.39.9.59 1.41.59.51 0 1.02-.2 1.41-.59l7.78-7.78 2.81-2.81c.8-.78.8-2.07 0-2.86zM5.41 20L4 18.59l7.72-7.72 1.47 1.35L5.41 20z\"/>\n",
              "  </svg>\n",
              "      </button>\n",
              "      \n",
              "  <style>\n",
              "    .colab-df-container {\n",
              "      display:flex;\n",
              "      flex-wrap:wrap;\n",
              "      gap: 12px;\n",
              "    }\n",
              "\n",
              "    .colab-df-convert {\n",
              "      background-color: #E8F0FE;\n",
              "      border: none;\n",
              "      border-radius: 50%;\n",
              "      cursor: pointer;\n",
              "      display: none;\n",
              "      fill: #1967D2;\n",
              "      height: 32px;\n",
              "      padding: 0 0 0 0;\n",
              "      width: 32px;\n",
              "    }\n",
              "\n",
              "    .colab-df-convert:hover {\n",
              "      background-color: #E2EBFA;\n",
              "      box-shadow: 0px 1px 2px rgba(60, 64, 67, 0.3), 0px 1px 3px 1px rgba(60, 64, 67, 0.15);\n",
              "      fill: #174EA6;\n",
              "    }\n",
              "\n",
              "    [theme=dark] .colab-df-convert {\n",
              "      background-color: #3B4455;\n",
              "      fill: #D2E3FC;\n",
              "    }\n",
              "\n",
              "    [theme=dark] .colab-df-convert:hover {\n",
              "      background-color: #434B5C;\n",
              "      box-shadow: 0px 1px 3px 1px rgba(0, 0, 0, 0.15);\n",
              "      filter: drop-shadow(0px 1px 2px rgba(0, 0, 0, 0.3));\n",
              "      fill: #FFFFFF;\n",
              "    }\n",
              "  </style>\n",
              "\n",
              "      <script>\n",
              "        const buttonEl =\n",
              "          document.querySelector('#df-889ec8f8-1113-429f-adc6-7741211ec736 button.colab-df-convert');\n",
              "        buttonEl.style.display =\n",
              "          google.colab.kernel.accessAllowed ? 'block' : 'none';\n",
              "\n",
              "        async function convertToInteractive(key) {\n",
              "          const element = document.querySelector('#df-889ec8f8-1113-429f-adc6-7741211ec736');\n",
              "          const dataTable =\n",
              "            await google.colab.kernel.invokeFunction('convertToInteractive',\n",
              "                                                     [key], {});\n",
              "          if (!dataTable) return;\n",
              "\n",
              "          const docLinkHtml = 'Like what you see? Visit the ' +\n",
              "            '<a target=\"_blank\" href=https://colab.research.google.com/notebooks/data_table.ipynb>data table notebook</a>'\n",
              "            + ' to learn more about interactive tables.';\n",
              "          element.innerHTML = '';\n",
              "          dataTable['output_type'] = 'display_data';\n",
              "          await google.colab.output.renderOutput(dataTable, element);\n",
              "          const docLink = document.createElement('div');\n",
              "          docLink.innerHTML = docLinkHtml;\n",
              "          element.appendChild(docLink);\n",
              "        }\n",
              "      </script>\n",
              "    </div>\n",
              "  </div>\n",
              "  "
            ]
          },
          "metadata": {},
          "execution_count": 186
        }
      ]
    },
    {
      "cell_type": "code",
      "source": [
        "final_rating_df=Ratings_Books_df.merge(Number_Rating,on='Title')"
      ],
      "metadata": {
        "id": "4n4ThK_5SC4_"
      },
      "execution_count": 187,
      "outputs": []
    }
  ]
}